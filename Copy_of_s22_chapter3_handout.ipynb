{
  "nbformat": 4,
  "nbformat_minor": 0,
  "metadata": {
    "kernelspec": {
      "display_name": "Python 3",
      "language": "python",
      "name": "python3"
    },
    "language_info": {
      "codemirror_mode": {
        "name": "ipython",
        "version": 3
      },
      "file_extension": ".py",
      "mimetype": "text/x-python",
      "name": "python",
      "nbconvert_exporter": "python",
      "pygments_lexer": "ipython3",
      "version": "3.7.3"
    },
    "colab": {
      "name": "Copy of s22_chapter3_handout",
      "provenance": [],
      "collapsed_sections": []
    }
  },
  "cells": [
    {
      "cell_type": "markdown",
      "metadata": {
        "id": "bzDiYMkiYgRS"
      },
      "source": [
        "<center>\n",
        "<h1>Chapter Three</h1>\n",
        "</center>\n",
        "\n",
        "<hr>"
      ]
    },
    {
      "cell_type": "markdown",
      "source": [
        "##Bring in puddles\n",
        "\n",
        "<img src='http://1.bp.blogspot.com/-Rbckf35EM5g/VgCFNBfLBvI/AAAAAAAAGRY/5wIQpScWToY/s1600/4257_oregon_ducks-alternate-2013.png' height=50>"
      ],
      "metadata": {
        "id": "2nIbuvTrciZW"
      }
    },
    {
      "cell_type": "code",
      "source": [
        "%%capture\n",
        "!pip install uo-puddles\n",
        "from uo_puddles.good_ai import *"
      ],
      "metadata": {
        "id": "v7XXG-E16ZxB"
      },
      "execution_count": 1,
      "outputs": []
    },
    {
      "cell_type": "markdown",
      "source": [
        "##And let's get back to the loan data"
      ],
      "metadata": {
        "id": "tjfUc3Dsf9VH"
      }
    },
    {
      "cell_type": "code",
      "source": [
        "loan_url = 'https://raw.githubusercontent.com/rafickas/data/main/loan.csv'\n",
        "#loan_url = \n",
        "loan_table = up_get_table(loan_url)\n",
        "loan_table"
      ],
      "metadata": {
        "id": "oJi-gq0e396p",
        "colab": {
          "base_uri": "https://localhost:8080/",
          "height": 505
        },
        "outputId": "63f2aca7-5c9c-4fef-858c-ddd6e3823485"
      },
      "execution_count": 2,
      "outputs": [
        {
          "output_type": "execute_result",
          "data": {
            "text/plain": [
              "      Loan_ID  Gender Married Dependents     Education Self_Employed  \\\n",
              "0    LP001002    Male      No          0      Graduate            No   \n",
              "1    LP001003    Male     Yes          1      Graduate            No   \n",
              "2    LP001005    Male     Yes          0      Graduate           Yes   \n",
              "3    LP001006    Male     Yes          0  Not Graduate            No   \n",
              "4    LP001008    Male      No          0      Graduate            No   \n",
              "..        ...     ...     ...        ...           ...           ...   \n",
              "609  LP002978  Female      No          0      Graduate            No   \n",
              "610  LP002979    Male     Yes         3+      Graduate            No   \n",
              "611  LP002983    Male     Yes          1      Graduate            No   \n",
              "612  LP002984    Male     Yes          2      Graduate            No   \n",
              "613  LP002990  Female      No          0      Graduate           Yes   \n",
              "\n",
              "     ApplicantIncome  CoapplicantIncome  LoanAmount  Loan_Amount_Term  \\\n",
              "0               5849                0.0         NaN             360.0   \n",
              "1               4583             1508.0       128.0             360.0   \n",
              "2               3000                0.0        66.0             360.0   \n",
              "3               2583             2358.0       120.0             360.0   \n",
              "4               6000                0.0       141.0             360.0   \n",
              "..               ...                ...         ...               ...   \n",
              "609             2900                0.0        71.0             360.0   \n",
              "610             4106                0.0        40.0             180.0   \n",
              "611             8072              240.0       253.0             360.0   \n",
              "612             7583                0.0       187.0             360.0   \n",
              "613             4583                0.0       133.0             360.0   \n",
              "\n",
              "     Credit_History Property_Area Loan_Status  \n",
              "0               1.0         Urban           Y  \n",
              "1               1.0         Rural           N  \n",
              "2               1.0         Urban           Y  \n",
              "3               1.0         Urban           Y  \n",
              "4               1.0         Urban           Y  \n",
              "..              ...           ...         ...  \n",
              "609             1.0         Rural           Y  \n",
              "610             1.0         Rural           Y  \n",
              "611             1.0         Urban           Y  \n",
              "612             1.0         Urban           Y  \n",
              "613             0.0     Semiurban           N  \n",
              "\n",
              "[614 rows x 13 columns]"
            ],
            "text/html": [
              "\n",
              "  <div id=\"df-e2f8de69-f330-4689-81bb-d0238a688d78\">\n",
              "    <div class=\"colab-df-container\">\n",
              "      <div>\n",
              "<style scoped>\n",
              "    .dataframe tbody tr th:only-of-type {\n",
              "        vertical-align: middle;\n",
              "    }\n",
              "\n",
              "    .dataframe tbody tr th {\n",
              "        vertical-align: top;\n",
              "    }\n",
              "\n",
              "    .dataframe thead th {\n",
              "        text-align: right;\n",
              "    }\n",
              "</style>\n",
              "<table border=\"1\" class=\"dataframe\">\n",
              "  <thead>\n",
              "    <tr style=\"text-align: right;\">\n",
              "      <th></th>\n",
              "      <th>Loan_ID</th>\n",
              "      <th>Gender</th>\n",
              "      <th>Married</th>\n",
              "      <th>Dependents</th>\n",
              "      <th>Education</th>\n",
              "      <th>Self_Employed</th>\n",
              "      <th>ApplicantIncome</th>\n",
              "      <th>CoapplicantIncome</th>\n",
              "      <th>LoanAmount</th>\n",
              "      <th>Loan_Amount_Term</th>\n",
              "      <th>Credit_History</th>\n",
              "      <th>Property_Area</th>\n",
              "      <th>Loan_Status</th>\n",
              "    </tr>\n",
              "  </thead>\n",
              "  <tbody>\n",
              "    <tr>\n",
              "      <th>0</th>\n",
              "      <td>LP001002</td>\n",
              "      <td>Male</td>\n",
              "      <td>No</td>\n",
              "      <td>0</td>\n",
              "      <td>Graduate</td>\n",
              "      <td>No</td>\n",
              "      <td>5849</td>\n",
              "      <td>0.0</td>\n",
              "      <td>NaN</td>\n",
              "      <td>360.0</td>\n",
              "      <td>1.0</td>\n",
              "      <td>Urban</td>\n",
              "      <td>Y</td>\n",
              "    </tr>\n",
              "    <tr>\n",
              "      <th>1</th>\n",
              "      <td>LP001003</td>\n",
              "      <td>Male</td>\n",
              "      <td>Yes</td>\n",
              "      <td>1</td>\n",
              "      <td>Graduate</td>\n",
              "      <td>No</td>\n",
              "      <td>4583</td>\n",
              "      <td>1508.0</td>\n",
              "      <td>128.0</td>\n",
              "      <td>360.0</td>\n",
              "      <td>1.0</td>\n",
              "      <td>Rural</td>\n",
              "      <td>N</td>\n",
              "    </tr>\n",
              "    <tr>\n",
              "      <th>2</th>\n",
              "      <td>LP001005</td>\n",
              "      <td>Male</td>\n",
              "      <td>Yes</td>\n",
              "      <td>0</td>\n",
              "      <td>Graduate</td>\n",
              "      <td>Yes</td>\n",
              "      <td>3000</td>\n",
              "      <td>0.0</td>\n",
              "      <td>66.0</td>\n",
              "      <td>360.0</td>\n",
              "      <td>1.0</td>\n",
              "      <td>Urban</td>\n",
              "      <td>Y</td>\n",
              "    </tr>\n",
              "    <tr>\n",
              "      <th>3</th>\n",
              "      <td>LP001006</td>\n",
              "      <td>Male</td>\n",
              "      <td>Yes</td>\n",
              "      <td>0</td>\n",
              "      <td>Not Graduate</td>\n",
              "      <td>No</td>\n",
              "      <td>2583</td>\n",
              "      <td>2358.0</td>\n",
              "      <td>120.0</td>\n",
              "      <td>360.0</td>\n",
              "      <td>1.0</td>\n",
              "      <td>Urban</td>\n",
              "      <td>Y</td>\n",
              "    </tr>\n",
              "    <tr>\n",
              "      <th>4</th>\n",
              "      <td>LP001008</td>\n",
              "      <td>Male</td>\n",
              "      <td>No</td>\n",
              "      <td>0</td>\n",
              "      <td>Graduate</td>\n",
              "      <td>No</td>\n",
              "      <td>6000</td>\n",
              "      <td>0.0</td>\n",
              "      <td>141.0</td>\n",
              "      <td>360.0</td>\n",
              "      <td>1.0</td>\n",
              "      <td>Urban</td>\n",
              "      <td>Y</td>\n",
              "    </tr>\n",
              "    <tr>\n",
              "      <th>...</th>\n",
              "      <td>...</td>\n",
              "      <td>...</td>\n",
              "      <td>...</td>\n",
              "      <td>...</td>\n",
              "      <td>...</td>\n",
              "      <td>...</td>\n",
              "      <td>...</td>\n",
              "      <td>...</td>\n",
              "      <td>...</td>\n",
              "      <td>...</td>\n",
              "      <td>...</td>\n",
              "      <td>...</td>\n",
              "      <td>...</td>\n",
              "    </tr>\n",
              "    <tr>\n",
              "      <th>609</th>\n",
              "      <td>LP002978</td>\n",
              "      <td>Female</td>\n",
              "      <td>No</td>\n",
              "      <td>0</td>\n",
              "      <td>Graduate</td>\n",
              "      <td>No</td>\n",
              "      <td>2900</td>\n",
              "      <td>0.0</td>\n",
              "      <td>71.0</td>\n",
              "      <td>360.0</td>\n",
              "      <td>1.0</td>\n",
              "      <td>Rural</td>\n",
              "      <td>Y</td>\n",
              "    </tr>\n",
              "    <tr>\n",
              "      <th>610</th>\n",
              "      <td>LP002979</td>\n",
              "      <td>Male</td>\n",
              "      <td>Yes</td>\n",
              "      <td>3+</td>\n",
              "      <td>Graduate</td>\n",
              "      <td>No</td>\n",
              "      <td>4106</td>\n",
              "      <td>0.0</td>\n",
              "      <td>40.0</td>\n",
              "      <td>180.0</td>\n",
              "      <td>1.0</td>\n",
              "      <td>Rural</td>\n",
              "      <td>Y</td>\n",
              "    </tr>\n",
              "    <tr>\n",
              "      <th>611</th>\n",
              "      <td>LP002983</td>\n",
              "      <td>Male</td>\n",
              "      <td>Yes</td>\n",
              "      <td>1</td>\n",
              "      <td>Graduate</td>\n",
              "      <td>No</td>\n",
              "      <td>8072</td>\n",
              "      <td>240.0</td>\n",
              "      <td>253.0</td>\n",
              "      <td>360.0</td>\n",
              "      <td>1.0</td>\n",
              "      <td>Urban</td>\n",
              "      <td>Y</td>\n",
              "    </tr>\n",
              "    <tr>\n",
              "      <th>612</th>\n",
              "      <td>LP002984</td>\n",
              "      <td>Male</td>\n",
              "      <td>Yes</td>\n",
              "      <td>2</td>\n",
              "      <td>Graduate</td>\n",
              "      <td>No</td>\n",
              "      <td>7583</td>\n",
              "      <td>0.0</td>\n",
              "      <td>187.0</td>\n",
              "      <td>360.0</td>\n",
              "      <td>1.0</td>\n",
              "      <td>Urban</td>\n",
              "      <td>Y</td>\n",
              "    </tr>\n",
              "    <tr>\n",
              "      <th>613</th>\n",
              "      <td>LP002990</td>\n",
              "      <td>Female</td>\n",
              "      <td>No</td>\n",
              "      <td>0</td>\n",
              "      <td>Graduate</td>\n",
              "      <td>Yes</td>\n",
              "      <td>4583</td>\n",
              "      <td>0.0</td>\n",
              "      <td>133.0</td>\n",
              "      <td>360.0</td>\n",
              "      <td>0.0</td>\n",
              "      <td>Semiurban</td>\n",
              "      <td>N</td>\n",
              "    </tr>\n",
              "  </tbody>\n",
              "</table>\n",
              "<p>614 rows × 13 columns</p>\n",
              "</div>\n",
              "      <button class=\"colab-df-convert\" onclick=\"convertToInteractive('df-e2f8de69-f330-4689-81bb-d0238a688d78')\"\n",
              "              title=\"Convert this dataframe to an interactive table.\"\n",
              "              style=\"display:none;\">\n",
              "        \n",
              "  <svg xmlns=\"http://www.w3.org/2000/svg\" height=\"24px\"viewBox=\"0 0 24 24\"\n",
              "       width=\"24px\">\n",
              "    <path d=\"M0 0h24v24H0V0z\" fill=\"none\"/>\n",
              "    <path d=\"M18.56 5.44l.94 2.06.94-2.06 2.06-.94-2.06-.94-.94-2.06-.94 2.06-2.06.94zm-11 1L8.5 8.5l.94-2.06 2.06-.94-2.06-.94L8.5 2.5l-.94 2.06-2.06.94zm10 10l.94 2.06.94-2.06 2.06-.94-2.06-.94-.94-2.06-.94 2.06-2.06.94z\"/><path d=\"M17.41 7.96l-1.37-1.37c-.4-.4-.92-.59-1.43-.59-.52 0-1.04.2-1.43.59L10.3 9.45l-7.72 7.72c-.78.78-.78 2.05 0 2.83L4 21.41c.39.39.9.59 1.41.59.51 0 1.02-.2 1.41-.59l7.78-7.78 2.81-2.81c.8-.78.8-2.07 0-2.86zM5.41 20L4 18.59l7.72-7.72 1.47 1.35L5.41 20z\"/>\n",
              "  </svg>\n",
              "      </button>\n",
              "      \n",
              "  <style>\n",
              "    .colab-df-container {\n",
              "      display:flex;\n",
              "      flex-wrap:wrap;\n",
              "      gap: 12px;\n",
              "    }\n",
              "\n",
              "    .colab-df-convert {\n",
              "      background-color: #E8F0FE;\n",
              "      border: none;\n",
              "      border-radius: 50%;\n",
              "      cursor: pointer;\n",
              "      display: none;\n",
              "      fill: #1967D2;\n",
              "      height: 32px;\n",
              "      padding: 0 0 0 0;\n",
              "      width: 32px;\n",
              "    }\n",
              "\n",
              "    .colab-df-convert:hover {\n",
              "      background-color: #E2EBFA;\n",
              "      box-shadow: 0px 1px 2px rgba(60, 64, 67, 0.3), 0px 1px 3px 1px rgba(60, 64, 67, 0.15);\n",
              "      fill: #174EA6;\n",
              "    }\n",
              "\n",
              "    [theme=dark] .colab-df-convert {\n",
              "      background-color: #3B4455;\n",
              "      fill: #D2E3FC;\n",
              "    }\n",
              "\n",
              "    [theme=dark] .colab-df-convert:hover {\n",
              "      background-color: #434B5C;\n",
              "      box-shadow: 0px 1px 3px 1px rgba(0, 0, 0, 0.15);\n",
              "      filter: drop-shadow(0px 1px 2px rgba(0, 0, 0, 0.3));\n",
              "      fill: #FFFFFF;\n",
              "    }\n",
              "  </style>\n",
              "\n",
              "      <script>\n",
              "        const buttonEl =\n",
              "          document.querySelector('#df-e2f8de69-f330-4689-81bb-d0238a688d78 button.colab-df-convert');\n",
              "        buttonEl.style.display =\n",
              "          google.colab.kernel.accessAllowed ? 'block' : 'none';\n",
              "\n",
              "        async function convertToInteractive(key) {\n",
              "          const element = document.querySelector('#df-e2f8de69-f330-4689-81bb-d0238a688d78');\n",
              "          const dataTable =\n",
              "            await google.colab.kernel.invokeFunction('convertToInteractive',\n",
              "                                                     [key], {});\n",
              "          if (!dataTable) return;\n",
              "\n",
              "          const docLinkHtml = 'Like what you see? Visit the ' +\n",
              "            '<a target=\"_blank\" href=https://colab.research.google.com/notebooks/data_table.ipynb>data table notebook</a>'\n",
              "            + ' to learn more about interactive tables.';\n",
              "          element.innerHTML = '';\n",
              "          dataTable['output_type'] = 'display_data';\n",
              "          await google.colab.output.renderOutput(dataTable, element);\n",
              "          const docLink = document.createElement('div');\n",
              "          docLink.innerHTML = docLinkHtml;\n",
              "          element.appendChild(docLink);\n",
              "        }\n",
              "      </script>\n",
              "    </div>\n",
              "  </div>\n",
              "  "
            ]
          },
          "metadata": {},
          "execution_count": 2
        }
      ]
    },
    {
      "cell_type": "markdown",
      "source": [
        "#I. Data wrangling\n",
        "<img src='https://www.dropbox.com/s/9fcc1crlxp19ijt/major_section.png?raw=1' width='300'>\n",
        "\n",
        "Here's the problem. The AI algorithms we will look at want their data in a very specific form. And they are not flexible about it.\n",
        "\n",
        "It is their way or the highway. You probably know some people like this.\n",
        "\n",
        "This forces us to get our data in shape. The jargony name is data wrangling. We will look at the following data wrangling steps:\n",
        "\n",
        "1. Dropping columns. If we do not think they are useful, we can just remove them from the table. Hopefully not on a whim!\n",
        "\n",
        "2. Dropping rows with missing data. Don't like to do it, but can't work with missing data.\n",
        "\n",
        "3. Mapping categorical columns to numeric. A good example is `Gender`. It has two category values. And both are strings. Not good. We need them to be two numbers.\n",
        "\n",
        "4. Looking for outliers. They are a fly in the ointment. They may be real values, e.g., someone is trying to borrow a billion dollars, or may be typos. We need to deal with them.\n",
        "\n",
        "5. We need apples to apples. If two columns are on a different scale, it will confuse poor Euclid. For instance, the `Credit_History` column has only 2 values: 0 and 1. The `ApplicantIncome` column is in the thousands. They are way out of scale with each other. Our goal is bring them into the same scale.\n",
        "\n",
        "\n",
        "###Let's get started!"
      ],
      "metadata": {
        "id": "eLOS5kmYCZIM"
      }
    },
    {
      "cell_type": "markdown",
      "source": [
        "#One big heads up\n",
        "\n",
        "Everytime I make a change to the table, I am going to store it in a new variable. This has the downside of having lots of variables that are versions of the table. I end up with at least 10 versions each with its own variable.\n",
        "\n",
        "But I think it is worth it. If we run a cell twice by accident we can avoid screwing everything up. And if we name our variables well, we can see them as a sequence."
      ],
      "metadata": {
        "id": "oLoLBRmFLZZI"
      }
    },
    {
      "cell_type": "markdown",
      "source": [
        "#II. Dropping columns\n",
        "<img src='https://www.dropbox.com/s/9fcc1crlxp19ijt/major_section.png?raw=1' width='300'>\n",
        "\n",
        "The good news is that puddles supplies us with a function to drop a column. It does not actually change the original table. It gives us a new table with the column missing"
      ],
      "metadata": {
        "id": "k_8EIFJHbfgY"
      }
    },
    {
      "cell_type": "markdown",
      "source": [
        "##The harder question is what to drop?\n",
        "\n",
        "This is where you have to use some human judgement. Potentially, all columns might contain information that is useful. And you generally do not want to lose information."
      ],
      "metadata": {
        "id": "ixh9viKybuwL"
      }
    },
    {
      "cell_type": "markdown",
      "source": [
        "##My decision is to drop the `Loan_ID` column\n",
        "\n",
        "Maybe there is some hidden information in an ID, but I don't see it. So I am dropping it."
      ],
      "metadata": {
        "id": "yE28ogZqcmBl"
      }
    },
    {
      "cell_type": "code",
      "source": [
        "wrangled_loan_table_1 = up_drop_column(loan_table, 'Loan_ID')  #all puddles functions return copies so don't change original"
      ],
      "metadata": {
        "id": "4-TP-yCi0kIq"
      },
      "execution_count": 3,
      "outputs": []
    },
    {
      "cell_type": "markdown",
      "source": [
        "###You can use slicing on a table!\n",
        "\n",
        "You saw how to use slicing on strings. You can also use it on a table to get slices of rows."
      ],
      "metadata": {
        "id": "p994FfQ9c7C5"
      }
    },
    {
      "cell_type": "code",
      "source": [
        "wrangled_loan_table_1[:5]  #Loan_ID is gone"
      ],
      "metadata": {
        "id": "deC6o0O2dFwj",
        "colab": {
          "base_uri": "https://localhost:8080/",
          "height": 287
        },
        "outputId": "1d6e481c-deb0-4290-ac3b-e071d94851a5"
      },
      "execution_count": 4,
      "outputs": [
        {
          "output_type": "execute_result",
          "data": {
            "text/plain": [
              "  Gender Married Dependents     Education Self_Employed  ApplicantIncome  \\\n",
              "0   Male      No          0      Graduate            No             5849   \n",
              "1   Male     Yes          1      Graduate            No             4583   \n",
              "2   Male     Yes          0      Graduate           Yes             3000   \n",
              "3   Male     Yes          0  Not Graduate            No             2583   \n",
              "4   Male      No          0      Graduate            No             6000   \n",
              "\n",
              "   CoapplicantIncome  LoanAmount  Loan_Amount_Term  Credit_History  \\\n",
              "0                0.0         NaN             360.0             1.0   \n",
              "1             1508.0       128.0             360.0             1.0   \n",
              "2                0.0        66.0             360.0             1.0   \n",
              "3             2358.0       120.0             360.0             1.0   \n",
              "4                0.0       141.0             360.0             1.0   \n",
              "\n",
              "  Property_Area Loan_Status  \n",
              "0         Urban           Y  \n",
              "1         Rural           N  \n",
              "2         Urban           Y  \n",
              "3         Urban           Y  \n",
              "4         Urban           Y  "
            ],
            "text/html": [
              "\n",
              "  <div id=\"df-70693cd9-3924-43d8-96dc-5e3ec337e294\">\n",
              "    <div class=\"colab-df-container\">\n",
              "      <div>\n",
              "<style scoped>\n",
              "    .dataframe tbody tr th:only-of-type {\n",
              "        vertical-align: middle;\n",
              "    }\n",
              "\n",
              "    .dataframe tbody tr th {\n",
              "        vertical-align: top;\n",
              "    }\n",
              "\n",
              "    .dataframe thead th {\n",
              "        text-align: right;\n",
              "    }\n",
              "</style>\n",
              "<table border=\"1\" class=\"dataframe\">\n",
              "  <thead>\n",
              "    <tr style=\"text-align: right;\">\n",
              "      <th></th>\n",
              "      <th>Gender</th>\n",
              "      <th>Married</th>\n",
              "      <th>Dependents</th>\n",
              "      <th>Education</th>\n",
              "      <th>Self_Employed</th>\n",
              "      <th>ApplicantIncome</th>\n",
              "      <th>CoapplicantIncome</th>\n",
              "      <th>LoanAmount</th>\n",
              "      <th>Loan_Amount_Term</th>\n",
              "      <th>Credit_History</th>\n",
              "      <th>Property_Area</th>\n",
              "      <th>Loan_Status</th>\n",
              "    </tr>\n",
              "  </thead>\n",
              "  <tbody>\n",
              "    <tr>\n",
              "      <th>0</th>\n",
              "      <td>Male</td>\n",
              "      <td>No</td>\n",
              "      <td>0</td>\n",
              "      <td>Graduate</td>\n",
              "      <td>No</td>\n",
              "      <td>5849</td>\n",
              "      <td>0.0</td>\n",
              "      <td>NaN</td>\n",
              "      <td>360.0</td>\n",
              "      <td>1.0</td>\n",
              "      <td>Urban</td>\n",
              "      <td>Y</td>\n",
              "    </tr>\n",
              "    <tr>\n",
              "      <th>1</th>\n",
              "      <td>Male</td>\n",
              "      <td>Yes</td>\n",
              "      <td>1</td>\n",
              "      <td>Graduate</td>\n",
              "      <td>No</td>\n",
              "      <td>4583</td>\n",
              "      <td>1508.0</td>\n",
              "      <td>128.0</td>\n",
              "      <td>360.0</td>\n",
              "      <td>1.0</td>\n",
              "      <td>Rural</td>\n",
              "      <td>N</td>\n",
              "    </tr>\n",
              "    <tr>\n",
              "      <th>2</th>\n",
              "      <td>Male</td>\n",
              "      <td>Yes</td>\n",
              "      <td>0</td>\n",
              "      <td>Graduate</td>\n",
              "      <td>Yes</td>\n",
              "      <td>3000</td>\n",
              "      <td>0.0</td>\n",
              "      <td>66.0</td>\n",
              "      <td>360.0</td>\n",
              "      <td>1.0</td>\n",
              "      <td>Urban</td>\n",
              "      <td>Y</td>\n",
              "    </tr>\n",
              "    <tr>\n",
              "      <th>3</th>\n",
              "      <td>Male</td>\n",
              "      <td>Yes</td>\n",
              "      <td>0</td>\n",
              "      <td>Not Graduate</td>\n",
              "      <td>No</td>\n",
              "      <td>2583</td>\n",
              "      <td>2358.0</td>\n",
              "      <td>120.0</td>\n",
              "      <td>360.0</td>\n",
              "      <td>1.0</td>\n",
              "      <td>Urban</td>\n",
              "      <td>Y</td>\n",
              "    </tr>\n",
              "    <tr>\n",
              "      <th>4</th>\n",
              "      <td>Male</td>\n",
              "      <td>No</td>\n",
              "      <td>0</td>\n",
              "      <td>Graduate</td>\n",
              "      <td>No</td>\n",
              "      <td>6000</td>\n",
              "      <td>0.0</td>\n",
              "      <td>141.0</td>\n",
              "      <td>360.0</td>\n",
              "      <td>1.0</td>\n",
              "      <td>Urban</td>\n",
              "      <td>Y</td>\n",
              "    </tr>\n",
              "  </tbody>\n",
              "</table>\n",
              "</div>\n",
              "      <button class=\"colab-df-convert\" onclick=\"convertToInteractive('df-70693cd9-3924-43d8-96dc-5e3ec337e294')\"\n",
              "              title=\"Convert this dataframe to an interactive table.\"\n",
              "              style=\"display:none;\">\n",
              "        \n",
              "  <svg xmlns=\"http://www.w3.org/2000/svg\" height=\"24px\"viewBox=\"0 0 24 24\"\n",
              "       width=\"24px\">\n",
              "    <path d=\"M0 0h24v24H0V0z\" fill=\"none\"/>\n",
              "    <path d=\"M18.56 5.44l.94 2.06.94-2.06 2.06-.94-2.06-.94-.94-2.06-.94 2.06-2.06.94zm-11 1L8.5 8.5l.94-2.06 2.06-.94-2.06-.94L8.5 2.5l-.94 2.06-2.06.94zm10 10l.94 2.06.94-2.06 2.06-.94-2.06-.94-.94-2.06-.94 2.06-2.06.94z\"/><path d=\"M17.41 7.96l-1.37-1.37c-.4-.4-.92-.59-1.43-.59-.52 0-1.04.2-1.43.59L10.3 9.45l-7.72 7.72c-.78.78-.78 2.05 0 2.83L4 21.41c.39.39.9.59 1.41.59.51 0 1.02-.2 1.41-.59l7.78-7.78 2.81-2.81c.8-.78.8-2.07 0-2.86zM5.41 20L4 18.59l7.72-7.72 1.47 1.35L5.41 20z\"/>\n",
              "  </svg>\n",
              "      </button>\n",
              "      \n",
              "  <style>\n",
              "    .colab-df-container {\n",
              "      display:flex;\n",
              "      flex-wrap:wrap;\n",
              "      gap: 12px;\n",
              "    }\n",
              "\n",
              "    .colab-df-convert {\n",
              "      background-color: #E8F0FE;\n",
              "      border: none;\n",
              "      border-radius: 50%;\n",
              "      cursor: pointer;\n",
              "      display: none;\n",
              "      fill: #1967D2;\n",
              "      height: 32px;\n",
              "      padding: 0 0 0 0;\n",
              "      width: 32px;\n",
              "    }\n",
              "\n",
              "    .colab-df-convert:hover {\n",
              "      background-color: #E2EBFA;\n",
              "      box-shadow: 0px 1px 2px rgba(60, 64, 67, 0.3), 0px 1px 3px 1px rgba(60, 64, 67, 0.15);\n",
              "      fill: #174EA6;\n",
              "    }\n",
              "\n",
              "    [theme=dark] .colab-df-convert {\n",
              "      background-color: #3B4455;\n",
              "      fill: #D2E3FC;\n",
              "    }\n",
              "\n",
              "    [theme=dark] .colab-df-convert:hover {\n",
              "      background-color: #434B5C;\n",
              "      box-shadow: 0px 1px 3px 1px rgba(0, 0, 0, 0.15);\n",
              "      filter: drop-shadow(0px 1px 2px rgba(0, 0, 0, 0.3));\n",
              "      fill: #FFFFFF;\n",
              "    }\n",
              "  </style>\n",
              "\n",
              "      <script>\n",
              "        const buttonEl =\n",
              "          document.querySelector('#df-70693cd9-3924-43d8-96dc-5e3ec337e294 button.colab-df-convert');\n",
              "        buttonEl.style.display =\n",
              "          google.colab.kernel.accessAllowed ? 'block' : 'none';\n",
              "\n",
              "        async function convertToInteractive(key) {\n",
              "          const element = document.querySelector('#df-70693cd9-3924-43d8-96dc-5e3ec337e294');\n",
              "          const dataTable =\n",
              "            await google.colab.kernel.invokeFunction('convertToInteractive',\n",
              "                                                     [key], {});\n",
              "          if (!dataTable) return;\n",
              "\n",
              "          const docLinkHtml = 'Like what you see? Visit the ' +\n",
              "            '<a target=\"_blank\" href=https://colab.research.google.com/notebooks/data_table.ipynb>data table notebook</a>'\n",
              "            + ' to learn more about interactive tables.';\n",
              "          element.innerHTML = '';\n",
              "          dataTable['output_type'] = 'display_data';\n",
              "          await google.colab.output.renderOutput(dataTable, element);\n",
              "          const docLink = document.createElement('div');\n",
              "          docLink.innerHTML = docLinkHtml;\n",
              "          element.appendChild(docLink);\n",
              "        }\n",
              "      </script>\n",
              "    </div>\n",
              "  </div>\n",
              "  "
            ]
          },
          "metadata": {},
          "execution_count": 4
        }
      ]
    },
    {
      "cell_type": "markdown",
      "source": [
        "###How about the last 5 rows?"
      ],
      "metadata": {
        "id": "E1JsiXS29e92"
      }
    },
    {
      "cell_type": "code",
      "source": [
        "wrangled_loan_table_1[-5:]"
      ],
      "metadata": {
        "id": "zgKG1Aez9jBt",
        "colab": {
          "base_uri": "https://localhost:8080/",
          "height": 270
        },
        "outputId": "4e50fd5a-dceb-471a-9cd1-00bd8a0ebba2"
      },
      "execution_count": 5,
      "outputs": [
        {
          "output_type": "execute_result",
          "data": {
            "text/plain": [
              "     Gender Married Dependents Education Self_Employed  ApplicantIncome  \\\n",
              "609  Female      No          0  Graduate            No             2900   \n",
              "610    Male     Yes         3+  Graduate            No             4106   \n",
              "611    Male     Yes          1  Graduate            No             8072   \n",
              "612    Male     Yes          2  Graduate            No             7583   \n",
              "613  Female      No          0  Graduate           Yes             4583   \n",
              "\n",
              "     CoapplicantIncome  LoanAmount  Loan_Amount_Term  Credit_History  \\\n",
              "609                0.0        71.0             360.0             1.0   \n",
              "610                0.0        40.0             180.0             1.0   \n",
              "611              240.0       253.0             360.0             1.0   \n",
              "612                0.0       187.0             360.0             1.0   \n",
              "613                0.0       133.0             360.0             0.0   \n",
              "\n",
              "    Property_Area Loan_Status  \n",
              "609         Rural           Y  \n",
              "610         Rural           Y  \n",
              "611         Urban           Y  \n",
              "612         Urban           Y  \n",
              "613     Semiurban           N  "
            ],
            "text/html": [
              "\n",
              "  <div id=\"df-1d2369b1-484c-4381-a19d-fae4c6054eb7\">\n",
              "    <div class=\"colab-df-container\">\n",
              "      <div>\n",
              "<style scoped>\n",
              "    .dataframe tbody tr th:only-of-type {\n",
              "        vertical-align: middle;\n",
              "    }\n",
              "\n",
              "    .dataframe tbody tr th {\n",
              "        vertical-align: top;\n",
              "    }\n",
              "\n",
              "    .dataframe thead th {\n",
              "        text-align: right;\n",
              "    }\n",
              "</style>\n",
              "<table border=\"1\" class=\"dataframe\">\n",
              "  <thead>\n",
              "    <tr style=\"text-align: right;\">\n",
              "      <th></th>\n",
              "      <th>Gender</th>\n",
              "      <th>Married</th>\n",
              "      <th>Dependents</th>\n",
              "      <th>Education</th>\n",
              "      <th>Self_Employed</th>\n",
              "      <th>ApplicantIncome</th>\n",
              "      <th>CoapplicantIncome</th>\n",
              "      <th>LoanAmount</th>\n",
              "      <th>Loan_Amount_Term</th>\n",
              "      <th>Credit_History</th>\n",
              "      <th>Property_Area</th>\n",
              "      <th>Loan_Status</th>\n",
              "    </tr>\n",
              "  </thead>\n",
              "  <tbody>\n",
              "    <tr>\n",
              "      <th>609</th>\n",
              "      <td>Female</td>\n",
              "      <td>No</td>\n",
              "      <td>0</td>\n",
              "      <td>Graduate</td>\n",
              "      <td>No</td>\n",
              "      <td>2900</td>\n",
              "      <td>0.0</td>\n",
              "      <td>71.0</td>\n",
              "      <td>360.0</td>\n",
              "      <td>1.0</td>\n",
              "      <td>Rural</td>\n",
              "      <td>Y</td>\n",
              "    </tr>\n",
              "    <tr>\n",
              "      <th>610</th>\n",
              "      <td>Male</td>\n",
              "      <td>Yes</td>\n",
              "      <td>3+</td>\n",
              "      <td>Graduate</td>\n",
              "      <td>No</td>\n",
              "      <td>4106</td>\n",
              "      <td>0.0</td>\n",
              "      <td>40.0</td>\n",
              "      <td>180.0</td>\n",
              "      <td>1.0</td>\n",
              "      <td>Rural</td>\n",
              "      <td>Y</td>\n",
              "    </tr>\n",
              "    <tr>\n",
              "      <th>611</th>\n",
              "      <td>Male</td>\n",
              "      <td>Yes</td>\n",
              "      <td>1</td>\n",
              "      <td>Graduate</td>\n",
              "      <td>No</td>\n",
              "      <td>8072</td>\n",
              "      <td>240.0</td>\n",
              "      <td>253.0</td>\n",
              "      <td>360.0</td>\n",
              "      <td>1.0</td>\n",
              "      <td>Urban</td>\n",
              "      <td>Y</td>\n",
              "    </tr>\n",
              "    <tr>\n",
              "      <th>612</th>\n",
              "      <td>Male</td>\n",
              "      <td>Yes</td>\n",
              "      <td>2</td>\n",
              "      <td>Graduate</td>\n",
              "      <td>No</td>\n",
              "      <td>7583</td>\n",
              "      <td>0.0</td>\n",
              "      <td>187.0</td>\n",
              "      <td>360.0</td>\n",
              "      <td>1.0</td>\n",
              "      <td>Urban</td>\n",
              "      <td>Y</td>\n",
              "    </tr>\n",
              "    <tr>\n",
              "      <th>613</th>\n",
              "      <td>Female</td>\n",
              "      <td>No</td>\n",
              "      <td>0</td>\n",
              "      <td>Graduate</td>\n",
              "      <td>Yes</td>\n",
              "      <td>4583</td>\n",
              "      <td>0.0</td>\n",
              "      <td>133.0</td>\n",
              "      <td>360.0</td>\n",
              "      <td>0.0</td>\n",
              "      <td>Semiurban</td>\n",
              "      <td>N</td>\n",
              "    </tr>\n",
              "  </tbody>\n",
              "</table>\n",
              "</div>\n",
              "      <button class=\"colab-df-convert\" onclick=\"convertToInteractive('df-1d2369b1-484c-4381-a19d-fae4c6054eb7')\"\n",
              "              title=\"Convert this dataframe to an interactive table.\"\n",
              "              style=\"display:none;\">\n",
              "        \n",
              "  <svg xmlns=\"http://www.w3.org/2000/svg\" height=\"24px\"viewBox=\"0 0 24 24\"\n",
              "       width=\"24px\">\n",
              "    <path d=\"M0 0h24v24H0V0z\" fill=\"none\"/>\n",
              "    <path d=\"M18.56 5.44l.94 2.06.94-2.06 2.06-.94-2.06-.94-.94-2.06-.94 2.06-2.06.94zm-11 1L8.5 8.5l.94-2.06 2.06-.94-2.06-.94L8.5 2.5l-.94 2.06-2.06.94zm10 10l.94 2.06.94-2.06 2.06-.94-2.06-.94-.94-2.06-.94 2.06-2.06.94z\"/><path d=\"M17.41 7.96l-1.37-1.37c-.4-.4-.92-.59-1.43-.59-.52 0-1.04.2-1.43.59L10.3 9.45l-7.72 7.72c-.78.78-.78 2.05 0 2.83L4 21.41c.39.39.9.59 1.41.59.51 0 1.02-.2 1.41-.59l7.78-7.78 2.81-2.81c.8-.78.8-2.07 0-2.86zM5.41 20L4 18.59l7.72-7.72 1.47 1.35L5.41 20z\"/>\n",
              "  </svg>\n",
              "      </button>\n",
              "      \n",
              "  <style>\n",
              "    .colab-df-container {\n",
              "      display:flex;\n",
              "      flex-wrap:wrap;\n",
              "      gap: 12px;\n",
              "    }\n",
              "\n",
              "    .colab-df-convert {\n",
              "      background-color: #E8F0FE;\n",
              "      border: none;\n",
              "      border-radius: 50%;\n",
              "      cursor: pointer;\n",
              "      display: none;\n",
              "      fill: #1967D2;\n",
              "      height: 32px;\n",
              "      padding: 0 0 0 0;\n",
              "      width: 32px;\n",
              "    }\n",
              "\n",
              "    .colab-df-convert:hover {\n",
              "      background-color: #E2EBFA;\n",
              "      box-shadow: 0px 1px 2px rgba(60, 64, 67, 0.3), 0px 1px 3px 1px rgba(60, 64, 67, 0.15);\n",
              "      fill: #174EA6;\n",
              "    }\n",
              "\n",
              "    [theme=dark] .colab-df-convert {\n",
              "      background-color: #3B4455;\n",
              "      fill: #D2E3FC;\n",
              "    }\n",
              "\n",
              "    [theme=dark] .colab-df-convert:hover {\n",
              "      background-color: #434B5C;\n",
              "      box-shadow: 0px 1px 3px 1px rgba(0, 0, 0, 0.15);\n",
              "      filter: drop-shadow(0px 1px 2px rgba(0, 0, 0, 0.3));\n",
              "      fill: #FFFFFF;\n",
              "    }\n",
              "  </style>\n",
              "\n",
              "      <script>\n",
              "        const buttonEl =\n",
              "          document.querySelector('#df-1d2369b1-484c-4381-a19d-fae4c6054eb7 button.colab-df-convert');\n",
              "        buttonEl.style.display =\n",
              "          google.colab.kernel.accessAllowed ? 'block' : 'none';\n",
              "\n",
              "        async function convertToInteractive(key) {\n",
              "          const element = document.querySelector('#df-1d2369b1-484c-4381-a19d-fae4c6054eb7');\n",
              "          const dataTable =\n",
              "            await google.colab.kernel.invokeFunction('convertToInteractive',\n",
              "                                                     [key], {});\n",
              "          if (!dataTable) return;\n",
              "\n",
              "          const docLinkHtml = 'Like what you see? Visit the ' +\n",
              "            '<a target=\"_blank\" href=https://colab.research.google.com/notebooks/data_table.ipynb>data table notebook</a>'\n",
              "            + ' to learn more about interactive tables.';\n",
              "          element.innerHTML = '';\n",
              "          dataTable['output_type'] = 'display_data';\n",
              "          await google.colab.output.renderOutput(dataTable, element);\n",
              "          const docLink = document.createElement('div');\n",
              "          docLink.innerHTML = docLinkHtml;\n",
              "          element.appendChild(docLink);\n",
              "        }\n",
              "      </script>\n",
              "    </div>\n",
              "  </div>\n",
              "  "
            ]
          },
          "metadata": {},
          "execution_count": 5
        }
      ]
    },
    {
      "cell_type": "markdown",
      "source": [
        "###You can see you can omit part of slice\n",
        "\n",
        "* If you omit first, it assumes 0, e.g., [:5] is same as [0:5].\n",
        "\n",
        "* If you omit last, it assumes to the end, e.g., [-5:].\n",
        "\n",
        "* If you use negative numbers, it refers to the right end, e.g., [-5:] says start 5 back from the end and go to the end. Or another example: [:-5] says everything up to but not including last 5."
      ],
      "metadata": {
        "id": "oXhv3ULB-HBF"
      }
    },
    {
      "cell_type": "markdown",
      "source": [
        "###I can divide the table into 2 pieces"
      ],
      "metadata": {
        "id": "iuhXyntb_WsM"
      }
    },
    {
      "cell_type": "code",
      "source": [
        "first_half = wrangled_loan_table_1[:307]  #up to but not including row 307\n",
        "second_half = wrangled_loan_table_1[307:]  #row 307 to end"
      ],
      "metadata": {
        "id": "b_KCbnLb_as5"
      },
      "execution_count": 6,
      "outputs": []
    },
    {
      "cell_type": "markdown",
      "source": [
        "###Let's move on to next wrangling step"
      ],
      "metadata": {
        "id": "2sGvrAqWdUBJ"
      }
    },
    {
      "cell_type": "markdown",
      "source": [
        "#III. Dropping rows\n",
        "<img src='https://www.dropbox.com/s/9fcc1crlxp19ijt/major_section.png?raw=1' width='300'>\n",
        "\n",
        "If you look at the table above, you will see a `NaN` under `LoanAmount`. The `NaN` is puddles way of telling us this is a missing value."
      ],
      "metadata": {
        "id": "sv5tEUSRgsw1"
      }
    },
    {
      "cell_type": "markdown",
      "metadata": {
        "id": "OSESSeTbVJK1"
      },
      "source": [
        "## Not all NaNs the same\n",
        "\n",
        "The question is how did the NaN end up there in the first place? Here is a general classification.\n",
        "\n",
        "* Missing completely at random (MCAR). Cannot be tied to any known variable or event. Perhaps random data entry error. Contains no interesting information.\n",
        "\n",
        "* Missing at random (MAR). A bit of a misnomer, the missing value is linked to a known cause. Perhaps one of the bank staff was bad at filling in data. So there is a cause: careless staff. But we have lost that information.\n",
        "\n",
        "* Not missing at random (NMAR). Maybe some applicants did not want to give their marital status because of fear of discrimination.\n",
        "\n",
        "The question is whether we can detect these 3 cases? If we have a NaN in the `Married` column, can I differentiate among these 3?\n",
        "\n"
      ]
    },
    {
      "cell_type": "markdown",
      "metadata": {
        "id": "1Kc8-e8hgPFz"
      },
      "source": [
        "##I'll say no for now\n",
        "\n",
        "In essence, I will view them as MCAR. If we have time later in quarter, we can look at some other ways to deal with missing values by trying to guess them. But for now, we will just delete all rows that contain a NaN value in any column. Puddles gives us a function to do this.\n"
      ]
    },
    {
      "cell_type": "code",
      "source": [
        "wrangled_loan_table_2 = up_drop_nan_rows(wrangled_loan_table_1)"
      ],
      "metadata": {
        "id": "4TXZ4is4jw9e"
      },
      "execution_count": 7,
      "outputs": []
    },
    {
      "cell_type": "code",
      "source": [
        "len(wrangled_loan_table_1) - len(wrangled_loan_table_2)  #dropped 134 rows with one or more NaN values"
      ],
      "metadata": {
        "id": "LzY-atbmk1mh",
        "colab": {
          "base_uri": "https://localhost:8080/"
        },
        "outputId": "da4885ca-2ada-4144-8d50-30829dbca03a"
      },
      "execution_count": 8,
      "outputs": [
        {
          "output_type": "execute_result",
          "data": {
            "text/plain": [
              "134"
            ]
          },
          "metadata": {},
          "execution_count": 8
        }
      ]
    },
    {
      "cell_type": "markdown",
      "source": [
        "#IV. Mapping columns\n",
        "<img src='https://www.dropbox.com/s/9fcc1crlxp19ijt/major_section.png?raw=1' width='300'>\n",
        "\n",
        "I am using the jargony term *map* to signify changing one value to another, i.e., map one value to another.\n",
        "\n",
        "Puddles gives us a function for doing this to a specific column. However, the function asks us to use a new type of Python data called a *dictionary*. So let's take a side-tour to look at that."
      ],
      "metadata": {
        "id": "MlyiOF13dZmE"
      }
    },
    {
      "cell_type": "markdown",
      "source": [
        "##Python dictionary\n",
        "\n",
        "First, let me say the name *dictionary* is a bit misleading here. It has nothing to do with looking up words and their definitions. And it is not ordered in any way, e.g., not ordered alphabetically.\n",
        "\n",
        "What it is in essence is a collection of `key:value` pairs:\n",
        "\n",
        "* The `key` can be a number or a string but is most typically a string. Keys must be unique. You cannot have duplicate keys.\n",
        "\n",
        "* The `value` can be anything. A number, a string, a list, even a table.\n",
        "\n",
        "Let me show you an example."
      ],
      "metadata": {
        "id": "MYYQshCgd8lK"
      }
    },
    {
      "cell_type": "code",
      "source": [
        "gender_dict = {'Male': 0, 'Female': 1}\n",
        "gender_dict  #prints alphabetically but cannot count on that"
      ],
      "metadata": {
        "id": "f6-EZPlde9Fz",
        "colab": {
          "base_uri": "https://localhost:8080/"
        },
        "outputId": "b35d685b-5a42-41e0-e826-0ae4fafa6eca"
      },
      "execution_count": 9,
      "outputs": [
        {
          "output_type": "execute_result",
          "data": {
            "text/plain": [
              "{'Female': 1, 'Male': 0}"
            ]
          },
          "metadata": {},
          "execution_count": 9
        }
      ]
    },
    {
      "cell_type": "markdown",
      "metadata": {
        "id": "CBAfwmqOV7pU"
      },
      "source": [
        "<img src='https://www.dropbox.com/s/8x575mvbi1xumje/cash_line.png?raw=1' height=3 width=500><br>\n",
        "<img src='https://www.gannett-cdn.com/-mm-/56cbeec8287997813f287995de67747ba5e101d5/c=9-0-1280-718/local/-/media/2018/02/15/Phoenix/Phoenix/636542954131413889-image.jpg' \n",
        "height=50 align=center>\n",
        "\n",
        "Post answer: [Mural link](https://app.mural.co/invitation/mural/cis4236034/1639511781261?sender=u173416b87b3b8c1cbe335790&key=3993cb03-56a9-4fe5-b4d9-6304e32ff459)\n",
        "\n",
        "Build a dictionary for the `Married` column. Map the string values to integers.\n",
        "\n"
      ]
    },
    {
      "cell_type": "code",
      "source": [
        "married_dict = \n",
        "married_dict  #prints alphabetically but cannot count on that"
      ],
      "metadata": {
        "id": "i-FrQb1Zf39g",
        "colab": {
          "base_uri": "https://localhost:8080/",
          "height": 134
        },
        "outputId": "7f223909-9218-471d-cd96-d7ee6767b6a8"
      },
      "execution_count": 10,
      "outputs": [
        {
          "output_type": "error",
          "ename": "SyntaxError",
          "evalue": "ignored",
          "traceback": [
            "\u001b[0;36m  File \u001b[0;32m\"<ipython-input-10-6efb1826e5e2>\"\u001b[0;36m, line \u001b[0;32m1\u001b[0m\n\u001b[0;31m    married_dict =\u001b[0m\n\u001b[0m                   ^\u001b[0m\n\u001b[0;31mSyntaxError\u001b[0m\u001b[0;31m:\u001b[0m invalid syntax\n"
          ]
        }
      ]
    },
    {
      "cell_type": "markdown",
      "source": [
        "##Let's try a column mapping\n",
        "\n",
        "Puddles has a function to help. It returns a new table with the mapping completed for the named column. It expects a dictionary to tell it what to map to what."
      ],
      "metadata": {
        "id": "fUpsBCmfgbKT"
      }
    },
    {
      "cell_type": "code",
      "source": [
        "wrangled_loan_table_3 = up_map_column(wrangled_loan_table_2, 'Gender', gender_dict)\n",
        "wrangled_loan_table_3[:5]"
      ],
      "metadata": {
        "id": "lGG5_Xihgf5a",
        "colab": {
          "base_uri": "https://localhost:8080/",
          "height": 287
        },
        "outputId": "c3ed80d8-a282-41e9-a3ad-cc10a557e60e"
      },
      "execution_count": 11,
      "outputs": [
        {
          "output_type": "execute_result",
          "data": {
            "text/plain": [
              "   Gender Married Dependents     Education Self_Employed  ApplicantIncome  \\\n",
              "0       0     Yes          1      Graduate            No             4583   \n",
              "1       0     Yes          0      Graduate           Yes             3000   \n",
              "2       0     Yes          0  Not Graduate            No             2583   \n",
              "3       0      No          0      Graduate            No             6000   \n",
              "4       0     Yes          2      Graduate           Yes             5417   \n",
              "\n",
              "   CoapplicantIncome  LoanAmount  Loan_Amount_Term  Credit_History  \\\n",
              "0             1508.0       128.0             360.0             1.0   \n",
              "1                0.0        66.0             360.0             1.0   \n",
              "2             2358.0       120.0             360.0             1.0   \n",
              "3                0.0       141.0             360.0             1.0   \n",
              "4             4196.0       267.0             360.0             1.0   \n",
              "\n",
              "  Property_Area Loan_Status  \n",
              "0         Rural           N  \n",
              "1         Urban           Y  \n",
              "2         Urban           Y  \n",
              "3         Urban           Y  \n",
              "4         Urban           Y  "
            ],
            "text/html": [
              "\n",
              "  <div id=\"df-7978fcab-37e3-44b1-bc75-27092f2db718\">\n",
              "    <div class=\"colab-df-container\">\n",
              "      <div>\n",
              "<style scoped>\n",
              "    .dataframe tbody tr th:only-of-type {\n",
              "        vertical-align: middle;\n",
              "    }\n",
              "\n",
              "    .dataframe tbody tr th {\n",
              "        vertical-align: top;\n",
              "    }\n",
              "\n",
              "    .dataframe thead th {\n",
              "        text-align: right;\n",
              "    }\n",
              "</style>\n",
              "<table border=\"1\" class=\"dataframe\">\n",
              "  <thead>\n",
              "    <tr style=\"text-align: right;\">\n",
              "      <th></th>\n",
              "      <th>Gender</th>\n",
              "      <th>Married</th>\n",
              "      <th>Dependents</th>\n",
              "      <th>Education</th>\n",
              "      <th>Self_Employed</th>\n",
              "      <th>ApplicantIncome</th>\n",
              "      <th>CoapplicantIncome</th>\n",
              "      <th>LoanAmount</th>\n",
              "      <th>Loan_Amount_Term</th>\n",
              "      <th>Credit_History</th>\n",
              "      <th>Property_Area</th>\n",
              "      <th>Loan_Status</th>\n",
              "    </tr>\n",
              "  </thead>\n",
              "  <tbody>\n",
              "    <tr>\n",
              "      <th>0</th>\n",
              "      <td>0</td>\n",
              "      <td>Yes</td>\n",
              "      <td>1</td>\n",
              "      <td>Graduate</td>\n",
              "      <td>No</td>\n",
              "      <td>4583</td>\n",
              "      <td>1508.0</td>\n",
              "      <td>128.0</td>\n",
              "      <td>360.0</td>\n",
              "      <td>1.0</td>\n",
              "      <td>Rural</td>\n",
              "      <td>N</td>\n",
              "    </tr>\n",
              "    <tr>\n",
              "      <th>1</th>\n",
              "      <td>0</td>\n",
              "      <td>Yes</td>\n",
              "      <td>0</td>\n",
              "      <td>Graduate</td>\n",
              "      <td>Yes</td>\n",
              "      <td>3000</td>\n",
              "      <td>0.0</td>\n",
              "      <td>66.0</td>\n",
              "      <td>360.0</td>\n",
              "      <td>1.0</td>\n",
              "      <td>Urban</td>\n",
              "      <td>Y</td>\n",
              "    </tr>\n",
              "    <tr>\n",
              "      <th>2</th>\n",
              "      <td>0</td>\n",
              "      <td>Yes</td>\n",
              "      <td>0</td>\n",
              "      <td>Not Graduate</td>\n",
              "      <td>No</td>\n",
              "      <td>2583</td>\n",
              "      <td>2358.0</td>\n",
              "      <td>120.0</td>\n",
              "      <td>360.0</td>\n",
              "      <td>1.0</td>\n",
              "      <td>Urban</td>\n",
              "      <td>Y</td>\n",
              "    </tr>\n",
              "    <tr>\n",
              "      <th>3</th>\n",
              "      <td>0</td>\n",
              "      <td>No</td>\n",
              "      <td>0</td>\n",
              "      <td>Graduate</td>\n",
              "      <td>No</td>\n",
              "      <td>6000</td>\n",
              "      <td>0.0</td>\n",
              "      <td>141.0</td>\n",
              "      <td>360.0</td>\n",
              "      <td>1.0</td>\n",
              "      <td>Urban</td>\n",
              "      <td>Y</td>\n",
              "    </tr>\n",
              "    <tr>\n",
              "      <th>4</th>\n",
              "      <td>0</td>\n",
              "      <td>Yes</td>\n",
              "      <td>2</td>\n",
              "      <td>Graduate</td>\n",
              "      <td>Yes</td>\n",
              "      <td>5417</td>\n",
              "      <td>4196.0</td>\n",
              "      <td>267.0</td>\n",
              "      <td>360.0</td>\n",
              "      <td>1.0</td>\n",
              "      <td>Urban</td>\n",
              "      <td>Y</td>\n",
              "    </tr>\n",
              "  </tbody>\n",
              "</table>\n",
              "</div>\n",
              "      <button class=\"colab-df-convert\" onclick=\"convertToInteractive('df-7978fcab-37e3-44b1-bc75-27092f2db718')\"\n",
              "              title=\"Convert this dataframe to an interactive table.\"\n",
              "              style=\"display:none;\">\n",
              "        \n",
              "  <svg xmlns=\"http://www.w3.org/2000/svg\" height=\"24px\"viewBox=\"0 0 24 24\"\n",
              "       width=\"24px\">\n",
              "    <path d=\"M0 0h24v24H0V0z\" fill=\"none\"/>\n",
              "    <path d=\"M18.56 5.44l.94 2.06.94-2.06 2.06-.94-2.06-.94-.94-2.06-.94 2.06-2.06.94zm-11 1L8.5 8.5l.94-2.06 2.06-.94-2.06-.94L8.5 2.5l-.94 2.06-2.06.94zm10 10l.94 2.06.94-2.06 2.06-.94-2.06-.94-.94-2.06-.94 2.06-2.06.94z\"/><path d=\"M17.41 7.96l-1.37-1.37c-.4-.4-.92-.59-1.43-.59-.52 0-1.04.2-1.43.59L10.3 9.45l-7.72 7.72c-.78.78-.78 2.05 0 2.83L4 21.41c.39.39.9.59 1.41.59.51 0 1.02-.2 1.41-.59l7.78-7.78 2.81-2.81c.8-.78.8-2.07 0-2.86zM5.41 20L4 18.59l7.72-7.72 1.47 1.35L5.41 20z\"/>\n",
              "  </svg>\n",
              "      </button>\n",
              "      \n",
              "  <style>\n",
              "    .colab-df-container {\n",
              "      display:flex;\n",
              "      flex-wrap:wrap;\n",
              "      gap: 12px;\n",
              "    }\n",
              "\n",
              "    .colab-df-convert {\n",
              "      background-color: #E8F0FE;\n",
              "      border: none;\n",
              "      border-radius: 50%;\n",
              "      cursor: pointer;\n",
              "      display: none;\n",
              "      fill: #1967D2;\n",
              "      height: 32px;\n",
              "      padding: 0 0 0 0;\n",
              "      width: 32px;\n",
              "    }\n",
              "\n",
              "    .colab-df-convert:hover {\n",
              "      background-color: #E2EBFA;\n",
              "      box-shadow: 0px 1px 2px rgba(60, 64, 67, 0.3), 0px 1px 3px 1px rgba(60, 64, 67, 0.15);\n",
              "      fill: #174EA6;\n",
              "    }\n",
              "\n",
              "    [theme=dark] .colab-df-convert {\n",
              "      background-color: #3B4455;\n",
              "      fill: #D2E3FC;\n",
              "    }\n",
              "\n",
              "    [theme=dark] .colab-df-convert:hover {\n",
              "      background-color: #434B5C;\n",
              "      box-shadow: 0px 1px 3px 1px rgba(0, 0, 0, 0.15);\n",
              "      filter: drop-shadow(0px 1px 2px rgba(0, 0, 0, 0.3));\n",
              "      fill: #FFFFFF;\n",
              "    }\n",
              "  </style>\n",
              "\n",
              "      <script>\n",
              "        const buttonEl =\n",
              "          document.querySelector('#df-7978fcab-37e3-44b1-bc75-27092f2db718 button.colab-df-convert');\n",
              "        buttonEl.style.display =\n",
              "          google.colab.kernel.accessAllowed ? 'block' : 'none';\n",
              "\n",
              "        async function convertToInteractive(key) {\n",
              "          const element = document.querySelector('#df-7978fcab-37e3-44b1-bc75-27092f2db718');\n",
              "          const dataTable =\n",
              "            await google.colab.kernel.invokeFunction('convertToInteractive',\n",
              "                                                     [key], {});\n",
              "          if (!dataTable) return;\n",
              "\n",
              "          const docLinkHtml = 'Like what you see? Visit the ' +\n",
              "            '<a target=\"_blank\" href=https://colab.research.google.com/notebooks/data_table.ipynb>data table notebook</a>'\n",
              "            + ' to learn more about interactive tables.';\n",
              "          element.innerHTML = '';\n",
              "          dataTable['output_type'] = 'display_data';\n",
              "          await google.colab.output.renderOutput(dataTable, element);\n",
              "          const docLink = document.createElement('div');\n",
              "          docLink.innerHTML = docLinkHtml;\n",
              "          element.appendChild(docLink);\n",
              "        }\n",
              "      </script>\n",
              "    </div>\n",
              "  </div>\n",
              "  "
            ]
          },
          "metadata": {},
          "execution_count": 11
        }
      ]
    },
    {
      "cell_type": "markdown",
      "metadata": {
        "id": "CdEWkG643Tf2"
      },
      "source": [
        "<img src='https://www.dropbox.com/s/8x575mvbi1xumje/cash_line.png?raw=1' height=3 width=500><br>\n",
        "<img src='https://www.gannett-cdn.com/-mm-/56cbeec8287997813f287995de67747ba5e101d5/c=9-0-1280-718/local/-/media/2018/02/15/Phoenix/Phoenix/636542954131413889-image.jpg' \n",
        "height=50 align=center>\n",
        "\n",
        "Post answer: [Mural link](https://app.mural.co/invitation/mural/cis4236034/1639511781261?sender=u173416b87b3b8c1cbe335790&key=3993cb03-56a9-4fe5-b4d9-6304e32ff459)\n",
        "\n",
        "Map `Married` column and store in `wrangled_loan_table_4`.\n",
        "\n"
      ]
    },
    {
      "cell_type": "code",
      "source": [
        "wrangled_loan_table_4 = up_map_column(wrangled_loan_table_3, 'Married', {'Yes':0, 'No':1})\n",
        "\n",
        "wrangled_loan_table_4[0:5]"
      ],
      "metadata": {
        "id": "pGxkUZYK3Tf2",
        "colab": {
          "base_uri": "https://localhost:8080/",
          "height": 287
        },
        "outputId": "74861893-f5f3-489d-8c14-cae5849b38eb"
      },
      "execution_count": 12,
      "outputs": [
        {
          "output_type": "execute_result",
          "data": {
            "text/plain": [
              "   Gender  Married Dependents     Education Self_Employed  ApplicantIncome  \\\n",
              "0       0        0          1      Graduate            No             4583   \n",
              "1       0        0          0      Graduate           Yes             3000   \n",
              "2       0        0          0  Not Graduate            No             2583   \n",
              "3       0        1          0      Graduate            No             6000   \n",
              "4       0        0          2      Graduate           Yes             5417   \n",
              "\n",
              "   CoapplicantIncome  LoanAmount  Loan_Amount_Term  Credit_History  \\\n",
              "0             1508.0       128.0             360.0             1.0   \n",
              "1                0.0        66.0             360.0             1.0   \n",
              "2             2358.0       120.0             360.0             1.0   \n",
              "3                0.0       141.0             360.0             1.0   \n",
              "4             4196.0       267.0             360.0             1.0   \n",
              "\n",
              "  Property_Area Loan_Status  \n",
              "0         Rural           N  \n",
              "1         Urban           Y  \n",
              "2         Urban           Y  \n",
              "3         Urban           Y  \n",
              "4         Urban           Y  "
            ],
            "text/html": [
              "\n",
              "  <div id=\"df-7c7667ee-0c4c-4a02-b4cd-af53517fb3a3\">\n",
              "    <div class=\"colab-df-container\">\n",
              "      <div>\n",
              "<style scoped>\n",
              "    .dataframe tbody tr th:only-of-type {\n",
              "        vertical-align: middle;\n",
              "    }\n",
              "\n",
              "    .dataframe tbody tr th {\n",
              "        vertical-align: top;\n",
              "    }\n",
              "\n",
              "    .dataframe thead th {\n",
              "        text-align: right;\n",
              "    }\n",
              "</style>\n",
              "<table border=\"1\" class=\"dataframe\">\n",
              "  <thead>\n",
              "    <tr style=\"text-align: right;\">\n",
              "      <th></th>\n",
              "      <th>Gender</th>\n",
              "      <th>Married</th>\n",
              "      <th>Dependents</th>\n",
              "      <th>Education</th>\n",
              "      <th>Self_Employed</th>\n",
              "      <th>ApplicantIncome</th>\n",
              "      <th>CoapplicantIncome</th>\n",
              "      <th>LoanAmount</th>\n",
              "      <th>Loan_Amount_Term</th>\n",
              "      <th>Credit_History</th>\n",
              "      <th>Property_Area</th>\n",
              "      <th>Loan_Status</th>\n",
              "    </tr>\n",
              "  </thead>\n",
              "  <tbody>\n",
              "    <tr>\n",
              "      <th>0</th>\n",
              "      <td>0</td>\n",
              "      <td>0</td>\n",
              "      <td>1</td>\n",
              "      <td>Graduate</td>\n",
              "      <td>No</td>\n",
              "      <td>4583</td>\n",
              "      <td>1508.0</td>\n",
              "      <td>128.0</td>\n",
              "      <td>360.0</td>\n",
              "      <td>1.0</td>\n",
              "      <td>Rural</td>\n",
              "      <td>N</td>\n",
              "    </tr>\n",
              "    <tr>\n",
              "      <th>1</th>\n",
              "      <td>0</td>\n",
              "      <td>0</td>\n",
              "      <td>0</td>\n",
              "      <td>Graduate</td>\n",
              "      <td>Yes</td>\n",
              "      <td>3000</td>\n",
              "      <td>0.0</td>\n",
              "      <td>66.0</td>\n",
              "      <td>360.0</td>\n",
              "      <td>1.0</td>\n",
              "      <td>Urban</td>\n",
              "      <td>Y</td>\n",
              "    </tr>\n",
              "    <tr>\n",
              "      <th>2</th>\n",
              "      <td>0</td>\n",
              "      <td>0</td>\n",
              "      <td>0</td>\n",
              "      <td>Not Graduate</td>\n",
              "      <td>No</td>\n",
              "      <td>2583</td>\n",
              "      <td>2358.0</td>\n",
              "      <td>120.0</td>\n",
              "      <td>360.0</td>\n",
              "      <td>1.0</td>\n",
              "      <td>Urban</td>\n",
              "      <td>Y</td>\n",
              "    </tr>\n",
              "    <tr>\n",
              "      <th>3</th>\n",
              "      <td>0</td>\n",
              "      <td>1</td>\n",
              "      <td>0</td>\n",
              "      <td>Graduate</td>\n",
              "      <td>No</td>\n",
              "      <td>6000</td>\n",
              "      <td>0.0</td>\n",
              "      <td>141.0</td>\n",
              "      <td>360.0</td>\n",
              "      <td>1.0</td>\n",
              "      <td>Urban</td>\n",
              "      <td>Y</td>\n",
              "    </tr>\n",
              "    <tr>\n",
              "      <th>4</th>\n",
              "      <td>0</td>\n",
              "      <td>0</td>\n",
              "      <td>2</td>\n",
              "      <td>Graduate</td>\n",
              "      <td>Yes</td>\n",
              "      <td>5417</td>\n",
              "      <td>4196.0</td>\n",
              "      <td>267.0</td>\n",
              "      <td>360.0</td>\n",
              "      <td>1.0</td>\n",
              "      <td>Urban</td>\n",
              "      <td>Y</td>\n",
              "    </tr>\n",
              "  </tbody>\n",
              "</table>\n",
              "</div>\n",
              "      <button class=\"colab-df-convert\" onclick=\"convertToInteractive('df-7c7667ee-0c4c-4a02-b4cd-af53517fb3a3')\"\n",
              "              title=\"Convert this dataframe to an interactive table.\"\n",
              "              style=\"display:none;\">\n",
              "        \n",
              "  <svg xmlns=\"http://www.w3.org/2000/svg\" height=\"24px\"viewBox=\"0 0 24 24\"\n",
              "       width=\"24px\">\n",
              "    <path d=\"M0 0h24v24H0V0z\" fill=\"none\"/>\n",
              "    <path d=\"M18.56 5.44l.94 2.06.94-2.06 2.06-.94-2.06-.94-.94-2.06-.94 2.06-2.06.94zm-11 1L8.5 8.5l.94-2.06 2.06-.94-2.06-.94L8.5 2.5l-.94 2.06-2.06.94zm10 10l.94 2.06.94-2.06 2.06-.94-2.06-.94-.94-2.06-.94 2.06-2.06.94z\"/><path d=\"M17.41 7.96l-1.37-1.37c-.4-.4-.92-.59-1.43-.59-.52 0-1.04.2-1.43.59L10.3 9.45l-7.72 7.72c-.78.78-.78 2.05 0 2.83L4 21.41c.39.39.9.59 1.41.59.51 0 1.02-.2 1.41-.59l7.78-7.78 2.81-2.81c.8-.78.8-2.07 0-2.86zM5.41 20L4 18.59l7.72-7.72 1.47 1.35L5.41 20z\"/>\n",
              "  </svg>\n",
              "      </button>\n",
              "      \n",
              "  <style>\n",
              "    .colab-df-container {\n",
              "      display:flex;\n",
              "      flex-wrap:wrap;\n",
              "      gap: 12px;\n",
              "    }\n",
              "\n",
              "    .colab-df-convert {\n",
              "      background-color: #E8F0FE;\n",
              "      border: none;\n",
              "      border-radius: 50%;\n",
              "      cursor: pointer;\n",
              "      display: none;\n",
              "      fill: #1967D2;\n",
              "      height: 32px;\n",
              "      padding: 0 0 0 0;\n",
              "      width: 32px;\n",
              "    }\n",
              "\n",
              "    .colab-df-convert:hover {\n",
              "      background-color: #E2EBFA;\n",
              "      box-shadow: 0px 1px 2px rgba(60, 64, 67, 0.3), 0px 1px 3px 1px rgba(60, 64, 67, 0.15);\n",
              "      fill: #174EA6;\n",
              "    }\n",
              "\n",
              "    [theme=dark] .colab-df-convert {\n",
              "      background-color: #3B4455;\n",
              "      fill: #D2E3FC;\n",
              "    }\n",
              "\n",
              "    [theme=dark] .colab-df-convert:hover {\n",
              "      background-color: #434B5C;\n",
              "      box-shadow: 0px 1px 3px 1px rgba(0, 0, 0, 0.15);\n",
              "      filter: drop-shadow(0px 1px 2px rgba(0, 0, 0, 0.3));\n",
              "      fill: #FFFFFF;\n",
              "    }\n",
              "  </style>\n",
              "\n",
              "      <script>\n",
              "        const buttonEl =\n",
              "          document.querySelector('#df-7c7667ee-0c4c-4a02-b4cd-af53517fb3a3 button.colab-df-convert');\n",
              "        buttonEl.style.display =\n",
              "          google.colab.kernel.accessAllowed ? 'block' : 'none';\n",
              "\n",
              "        async function convertToInteractive(key) {\n",
              "          const element = document.querySelector('#df-7c7667ee-0c4c-4a02-b4cd-af53517fb3a3');\n",
              "          const dataTable =\n",
              "            await google.colab.kernel.invokeFunction('convertToInteractive',\n",
              "                                                     [key], {});\n",
              "          if (!dataTable) return;\n",
              "\n",
              "          const docLinkHtml = 'Like what you see? Visit the ' +\n",
              "            '<a target=\"_blank\" href=https://colab.research.google.com/notebooks/data_table.ipynb>data table notebook</a>'\n",
              "            + ' to learn more about interactive tables.';\n",
              "          element.innerHTML = '';\n",
              "          dataTable['output_type'] = 'display_data';\n",
              "          await google.colab.output.renderOutput(dataTable, element);\n",
              "          const docLink = document.createElement('div');\n",
              "          docLink.innerHTML = docLinkHtml;\n",
              "          element.appendChild(docLink);\n",
              "        }\n",
              "      </script>\n",
              "    </div>\n",
              "  </div>\n",
              "  "
            ]
          },
          "metadata": {},
          "execution_count": 12
        }
      ]
    },
    {
      "cell_type": "markdown",
      "source": [
        "##Hard to spot categorical columns\n",
        "\n",
        "Check out the `Dependents` column. Looks like a numeric column, right? But let's do a little checking. I'll use a puddles function that gives a picture of all the columns."
      ],
      "metadata": {
        "id": "hoEOcjAYh2A9"
      }
    },
    {
      "cell_type": "code",
      "source": [
        "up_get_column_types(wrangled_loan_table_4)"
      ],
      "metadata": {
        "id": "VmUmuQeduGAx",
        "colab": {
          "base_uri": "https://localhost:8080/",
          "height": 425
        },
        "outputId": "4173195f-9c0c-4273-cf93-66ce2b9abab1"
      },
      "execution_count": 13,
      "outputs": [
        {
          "output_type": "execute_result",
          "data": {
            "text/plain": [
              "               Column   Type                  Unique<10\n",
              "0              Gender    int                        ...\n",
              "1             Married    int                        ...\n",
              "2          Dependents    str              {1, 2, 0, 3+}\n",
              "3           Education    str   {Not Graduate, Graduate}\n",
              "4       Self_Employed    str                  {Yes, No}\n",
              "5     ApplicantIncome    int                        ...\n",
              "6   CoapplicantIncome  float                        ...\n",
              "7          LoanAmount  float                        ...\n",
              "8    Loan_Amount_Term  float                        ...\n",
              "9      Credit_History  float                        ...\n",
              "10      Property_Area    str  {Semiurban, Urban, Rural}\n",
              "11        Loan_Status    str                     {N, Y}"
            ],
            "text/html": [
              "\n",
              "  <div id=\"df-11663734-26ce-4bba-9deb-d6cb2cf5a31b\">\n",
              "    <div class=\"colab-df-container\">\n",
              "      <div>\n",
              "<style scoped>\n",
              "    .dataframe tbody tr th:only-of-type {\n",
              "        vertical-align: middle;\n",
              "    }\n",
              "\n",
              "    .dataframe tbody tr th {\n",
              "        vertical-align: top;\n",
              "    }\n",
              "\n",
              "    .dataframe thead th {\n",
              "        text-align: right;\n",
              "    }\n",
              "</style>\n",
              "<table border=\"1\" class=\"dataframe\">\n",
              "  <thead>\n",
              "    <tr style=\"text-align: right;\">\n",
              "      <th></th>\n",
              "      <th>Column</th>\n",
              "      <th>Type</th>\n",
              "      <th>Unique&lt;10</th>\n",
              "    </tr>\n",
              "  </thead>\n",
              "  <tbody>\n",
              "    <tr>\n",
              "      <th>0</th>\n",
              "      <td>Gender</td>\n",
              "      <td>int</td>\n",
              "      <td>...</td>\n",
              "    </tr>\n",
              "    <tr>\n",
              "      <th>1</th>\n",
              "      <td>Married</td>\n",
              "      <td>int</td>\n",
              "      <td>...</td>\n",
              "    </tr>\n",
              "    <tr>\n",
              "      <th>2</th>\n",
              "      <td>Dependents</td>\n",
              "      <td>str</td>\n",
              "      <td>{1, 2, 0, 3+}</td>\n",
              "    </tr>\n",
              "    <tr>\n",
              "      <th>3</th>\n",
              "      <td>Education</td>\n",
              "      <td>str</td>\n",
              "      <td>{Not Graduate, Graduate}</td>\n",
              "    </tr>\n",
              "    <tr>\n",
              "      <th>4</th>\n",
              "      <td>Self_Employed</td>\n",
              "      <td>str</td>\n",
              "      <td>{Yes, No}</td>\n",
              "    </tr>\n",
              "    <tr>\n",
              "      <th>5</th>\n",
              "      <td>ApplicantIncome</td>\n",
              "      <td>int</td>\n",
              "      <td>...</td>\n",
              "    </tr>\n",
              "    <tr>\n",
              "      <th>6</th>\n",
              "      <td>CoapplicantIncome</td>\n",
              "      <td>float</td>\n",
              "      <td>...</td>\n",
              "    </tr>\n",
              "    <tr>\n",
              "      <th>7</th>\n",
              "      <td>LoanAmount</td>\n",
              "      <td>float</td>\n",
              "      <td>...</td>\n",
              "    </tr>\n",
              "    <tr>\n",
              "      <th>8</th>\n",
              "      <td>Loan_Amount_Term</td>\n",
              "      <td>float</td>\n",
              "      <td>...</td>\n",
              "    </tr>\n",
              "    <tr>\n",
              "      <th>9</th>\n",
              "      <td>Credit_History</td>\n",
              "      <td>float</td>\n",
              "      <td>...</td>\n",
              "    </tr>\n",
              "    <tr>\n",
              "      <th>10</th>\n",
              "      <td>Property_Area</td>\n",
              "      <td>str</td>\n",
              "      <td>{Semiurban, Urban, Rural}</td>\n",
              "    </tr>\n",
              "    <tr>\n",
              "      <th>11</th>\n",
              "      <td>Loan_Status</td>\n",
              "      <td>str</td>\n",
              "      <td>{N, Y}</td>\n",
              "    </tr>\n",
              "  </tbody>\n",
              "</table>\n",
              "</div>\n",
              "      <button class=\"colab-df-convert\" onclick=\"convertToInteractive('df-11663734-26ce-4bba-9deb-d6cb2cf5a31b')\"\n",
              "              title=\"Convert this dataframe to an interactive table.\"\n",
              "              style=\"display:none;\">\n",
              "        \n",
              "  <svg xmlns=\"http://www.w3.org/2000/svg\" height=\"24px\"viewBox=\"0 0 24 24\"\n",
              "       width=\"24px\">\n",
              "    <path d=\"M0 0h24v24H0V0z\" fill=\"none\"/>\n",
              "    <path d=\"M18.56 5.44l.94 2.06.94-2.06 2.06-.94-2.06-.94-.94-2.06-.94 2.06-2.06.94zm-11 1L8.5 8.5l.94-2.06 2.06-.94-2.06-.94L8.5 2.5l-.94 2.06-2.06.94zm10 10l.94 2.06.94-2.06 2.06-.94-2.06-.94-.94-2.06-.94 2.06-2.06.94z\"/><path d=\"M17.41 7.96l-1.37-1.37c-.4-.4-.92-.59-1.43-.59-.52 0-1.04.2-1.43.59L10.3 9.45l-7.72 7.72c-.78.78-.78 2.05 0 2.83L4 21.41c.39.39.9.59 1.41.59.51 0 1.02-.2 1.41-.59l7.78-7.78 2.81-2.81c.8-.78.8-2.07 0-2.86zM5.41 20L4 18.59l7.72-7.72 1.47 1.35L5.41 20z\"/>\n",
              "  </svg>\n",
              "      </button>\n",
              "      \n",
              "  <style>\n",
              "    .colab-df-container {\n",
              "      display:flex;\n",
              "      flex-wrap:wrap;\n",
              "      gap: 12px;\n",
              "    }\n",
              "\n",
              "    .colab-df-convert {\n",
              "      background-color: #E8F0FE;\n",
              "      border: none;\n",
              "      border-radius: 50%;\n",
              "      cursor: pointer;\n",
              "      display: none;\n",
              "      fill: #1967D2;\n",
              "      height: 32px;\n",
              "      padding: 0 0 0 0;\n",
              "      width: 32px;\n",
              "    }\n",
              "\n",
              "    .colab-df-convert:hover {\n",
              "      background-color: #E2EBFA;\n",
              "      box-shadow: 0px 1px 2px rgba(60, 64, 67, 0.3), 0px 1px 3px 1px rgba(60, 64, 67, 0.15);\n",
              "      fill: #174EA6;\n",
              "    }\n",
              "\n",
              "    [theme=dark] .colab-df-convert {\n",
              "      background-color: #3B4455;\n",
              "      fill: #D2E3FC;\n",
              "    }\n",
              "\n",
              "    [theme=dark] .colab-df-convert:hover {\n",
              "      background-color: #434B5C;\n",
              "      box-shadow: 0px 1px 3px 1px rgba(0, 0, 0, 0.15);\n",
              "      filter: drop-shadow(0px 1px 2px rgba(0, 0, 0, 0.3));\n",
              "      fill: #FFFFFF;\n",
              "    }\n",
              "  </style>\n",
              "\n",
              "      <script>\n",
              "        const buttonEl =\n",
              "          document.querySelector('#df-11663734-26ce-4bba-9deb-d6cb2cf5a31b button.colab-df-convert');\n",
              "        buttonEl.style.display =\n",
              "          google.colab.kernel.accessAllowed ? 'block' : 'none';\n",
              "\n",
              "        async function convertToInteractive(key) {\n",
              "          const element = document.querySelector('#df-11663734-26ce-4bba-9deb-d6cb2cf5a31b');\n",
              "          const dataTable =\n",
              "            await google.colab.kernel.invokeFunction('convertToInteractive',\n",
              "                                                     [key], {});\n",
              "          if (!dataTable) return;\n",
              "\n",
              "          const docLinkHtml = 'Like what you see? Visit the ' +\n",
              "            '<a target=\"_blank\" href=https://colab.research.google.com/notebooks/data_table.ipynb>data table notebook</a>'\n",
              "            + ' to learn more about interactive tables.';\n",
              "          element.innerHTML = '';\n",
              "          dataTable['output_type'] = 'display_data';\n",
              "          await google.colab.output.renderOutput(dataTable, element);\n",
              "          const docLink = document.createElement('div');\n",
              "          docLink.innerHTML = docLinkHtml;\n",
              "          element.appendChild(docLink);\n",
              "        }\n",
              "      </script>\n",
              "    </div>\n",
              "  </div>\n",
              "  "
            ]
          },
          "metadata": {},
          "execution_count": 13
        }
      ]
    },
    {
      "cell_type": "markdown",
      "source": [
        "###`Dependents` is actually a string column!\n",
        "\n",
        "We are back to that old problem of \"This is not a pipe.\" These both produce the same output:\n",
        "<pre>\n",
        "print(0)\n",
        "print('0')  #this is not a zero but prints as one\n",
        "</pre>\n",
        "So we are seeing the `Dependents` string values appearing as numbers. As I said, I think this is a bad choice on Python's part. Super confusing."
      ],
      "metadata": {
        "id": "96l4sODzw4mD"
      }
    },
    {
      "cell_type": "markdown",
      "source": [
        "###Looks like 5 remaining string columns we have to deal with\n",
        "\n",
        "I'll leave them as challenges."
      ],
      "metadata": {
        "id": "C3o7xdb23B5l"
      }
    },
    {
      "cell_type": "markdown",
      "source": [
        "#V. Outliers\n",
        "<img src='https://www.dropbox.com/s/9fcc1crlxp19ijt/major_section.png?raw=1' width='300'>\n",
        "\n",
        "Given a continuous column (i.e., one that has more than 10 unique numeric values), what should we consider an outlier value in the column? That is question 1.\n",
        "\n",
        "Question 2 is once we identify an outlier, what should we do with it?\n",
        "\n",
        "First let's look at question 1, how to identify outliers in a column."
      ],
      "metadata": {
        "id": "RHJKK-IN7XD5"
      }
    },
    {
      "cell_type": "markdown",
      "metadata": {
        "id": "8ubuZPYeHx5W"
      },
      "source": [
        "##The 3Sigma rule\n",
        "\n",
        "*Sigma* is the jargony name for the standard deviation.\n",
        "\n",
        "The 3Sigma rule says compute a boundary wall on either side of the mean that is 3*sigma out. Values beyond that boundary wall may be considered outliers. So we add, to the mean, 3 times the standard deviation to get the upper boundary and minus 3 times the standard deviation to get the lower boundary. Let's do that.\n",
        "The lowercase Greek letter mu (µ) represents the mean.\n",
        "\n",
        "<img src='https://www.researchgate.net/profile/Bin-Wang-103/publication/273955667/figure/fig3/AS:339883190177813@1458045875582/The-confidence-intervals-correspond-to-3-sigma-rule-of-the-normal-distribution.png' height=200>\n",
        "\n",
        "The diagram is in a perfect world where our column values form a bell-shape distribution. Let's check out the reality of a column using a new puddles function.\n"
      ]
    },
    {
      "cell_type": "code",
      "source": [
        "up_column_histogram(loan_table, 'ApplicantIncome')"
      ],
      "metadata": {
        "id": "EF0CFmjg9aax",
        "colab": {
          "base_uri": "https://localhost:8080/",
          "height": 483
        },
        "outputId": "c6594c79-da8a-46ce-827a-445ac8141f6c"
      },
      "execution_count": 14,
      "outputs": [
        {
          "output_type": "display_data",
          "data": {
            "text/plain": [
              "<Figure size 1080x576 with 1 Axes>"
            ],
            "image/png": "[encoded data removed]"
          },
          "metadata": {
            "needs_background": "light"
          }
        }
      ]
    },
    {
      "cell_type": "markdown",
      "source": [
        "###So much for a perfect world!\n",
        "\n",
        "The distribution above is called **right**-skewed (seems a little counter-intuitive to me).\n",
        "\n",
        "The question is whether those values at far right should be viewed as outliers. They kind of look like it, right? Maybe they should have been 8000 but someone accidentally added a 0."
      ],
      "metadata": {
        "id": "DB7lr1ia-IpF"
      }
    },
    {
      "cell_type": "markdown",
      "source": [
        "###Let's see what 3Sigma tells us\n",
        "\n",
        "We will need two things for doing the computation:\n",
        "\n",
        "1. The mean of the `ApplicantIncome` column.\n",
        "\n",
        "2. The standard deviation of the `ApplicantIncome` column.\n",
        "\n",
        "Once we have those two, we should have enough to compute the two walls. And see if column values are beyond those walls (i.e., are outliers)."
      ],
      "metadata": {
        "id": "2ASHmbATAiRe"
      }
    },
    {
      "cell_type": "markdown",
      "source": [
        "###The mean\n",
        "\n",
        "I think we already have the tools for this. My plan is to:\n",
        "\n",
        "1. Get the column values into a list.\n",
        "\n",
        "2. Use the `sum` function to sum the values.\n",
        "\n",
        "3. Get the length with `len` and divide.\n",
        "\n",
        "VOILÀ : I have the mean."
      ],
      "metadata": {
        "id": "pg3mOPXpBC_A"
      }
    },
    {
      "cell_type": "code",
      "source": [
        "apin_list = up_get_column(wrangled_loan_table_4, 'ApplicantIncome')\n",
        "apin_mean = sum(apin_list)/len(apin_list)\n",
        "apin_mean"
      ],
      "metadata": {
        "id": "WlzTD6GaBiCo",
        "colab": {
          "base_uri": "https://localhost:8080/"
        },
        "outputId": "ae9bd122-a558-41d0-9516-3eb64b90f159"
      },
      "execution_count": 15,
      "outputs": [
        {
          "output_type": "execute_result",
          "data": {
            "text/plain": [
              "5364.23125"
            ]
          },
          "metadata": {},
          "execution_count": 15
        }
      ]
    },
    {
      "cell_type": "markdown",
      "source": [
        "###Standard Deviation is harder\n",
        "\n",
        "Here is the fancy math defintion.\n",
        "\n",
        "<img src='https://www.dropbox.com/s/cblzn20cxng156p/Screen%20Shot%202021-04-04%20at%2012.06.28%20PM.png?raw=1' height=150>\n",
        "\n",
        "Mathematicians love their symbols! We saw the mu μ stands for the mean. The upper-case sigma Σ stands for summation.\n",
        "\n",
        "I am going to borrow from this site, which I think gives a good explanation of standard deviation in more understandable terms: [Standard Deviation in pictures](https://www.mathsisfun.com/data/standard-deviation.html).\n",
        "\n",
        "* The Standard Deviation is a measure of how spread out numbers are.\n",
        "\n",
        "* Its symbol is σ (the lower-case greek letter sigma).\n",
        "\n",
        "* The formula is easy: it is the square root of the *Variance*. So now you ask, \"What is the *Variance*?\"\n",
        "\n",
        "The Variance is defined as: \"The average of the squared differences from the Mean.\"\n",
        "\n",
        "Sounds complicated so let's list the steps to calculate the variance:\n",
        "\n",
        "1. Work out the Mean (the simple average of the numbers). We've done that before!\n",
        "\n",
        "2. Then for each number in the list: subtract the Mean and square the result (the squared difference). Put the squared difference in a new list.\n",
        "\n",
        "3. Then work out the average of those squared differences. You have them in a list, so can use `sum` and `len` functions as usual.\n",
        "\n",
        "###I was a little glib for step 2.\n",
        "\n",
        "What we need to do is \"visit\" every item in `apin_list`, one by one, and get a squared difference. Then we need to take that and place it in a new list. Where does this new list come from?\n",
        "\n",
        " We build it :)"
      ],
      "metadata": {
        "id": "cwFqRKsbB5lx"
      }
    },
    {
      "cell_type": "markdown",
      "source": [
        "##A side-tour into loops\n",
        "\n",
        "We will need some new Python to compute the Variance as I have stated the steps above. I'd like to say the new piece is easy. It is not :(\n",
        "\n",
        "\n",
        "The jargony term for what we need to visit every item is a loop. I am going to show you two different ways to loop to get the Variance. You can decide which appeals to you the most."
      ],
      "metadata": {
        "id": "fZObtfFAEHYH"
      }
    },
    {
      "cell_type": "markdown",
      "source": [
        "###Please do not get discouraged!\n",
        "\n",
        " Loops are notoriously hard to understand for beginners. So hang in there!"
      ],
      "metadata": {
        "id": "UASuWNXdMigf"
      }
    },
    {
      "cell_type": "markdown",
      "source": [
        "##A for-loop\n",
        "\n",
        "I'll first show you the use of a Python for-loop to compute the first part of the Variance then discuss."
      ],
      "metadata": {
        "id": "B_27kP5tFLLV"
      }
    },
    {
      "cell_type": "code",
      "source": [
        "sq_diff_list = []  #starts out empty - we will add on to it, bit by bit in the loop\n",
        "\n",
        "for item in apin_list:\n",
        "  #loop body has to be indented\n",
        "  result = (item - apin_mean)**2\n",
        "  sq_diff_list = sq_diff_list + [result]  #add 2 lists together to get a new list\n",
        "\n",
        "sq_diff_list[0:5]  #notice that this is not indented. If it was, it would be part of loop body\n"
      ],
      "metadata": {
        "id": "JEUz5xyHFV7D",
        "colab": {
          "base_uri": "https://localhost:8080/"
        },
        "outputId": "ae89a858-8471-40b1-d703-a475c84ed095"
      },
      "execution_count": 16,
      "outputs": [
        {
          "output_type": "execute_result",
          "data": {
            "text/plain": [
              "[610322.2659765622,\n",
              " 5589589.403476561,\n",
              " 7735247.265976561,\n",
              " 404201.90347656276,\n",
              " 2784.540976562519]"
            ]
          },
          "metadata": {},
          "execution_count": 16
        }
      ]
    },
    {
      "cell_type": "markdown",
      "source": [
        "###Let's talk about this\n",
        "\n",
        "Here are the pieces of a for-loop:\n",
        "\n",
        "* **The for-loop header**.\n",
        "<pre>\n",
        "for item in apin_list:\n",
        "</pre>\n",
        "What this does is grab a value out of `apin_list`, one by one, and do a variable assignment (MS) into the variable `item`.\n",
        "\n",
        "* **The for-loop body**.\n",
        "<pre>\n",
        "   #loop body has to be indented\n",
        "   result = (item-apin_mean)**2\n",
        "   sq_diff_list = sq_diff_list + [result]  #add 2 lists together to get a new list\n",
        "</pre>\n",
        "Notice that it is indented. That is how Python knows it is the loop body. The loop body is repeated, once for each new assignment to the variable `item`.\n",
        "\n",
        "* **The new list builder**.\n",
        "<pre>\n",
        "   sq_diff_list = sq_diff_list + [result]  #add 2 lists together to get a new list\n",
        "</pre>\n",
        "You can see this in the loop body. It's a bit surprising that Python allows us to use a plus-sign to add 2 lists instead of 2 numbers. But it does. What this line of code does abstractly is keep adding on new results to our new list, which I have called `sq_diff_list`.\n",
        "\n",
        "* **End of the loop body**.\n",
        "<pre>\n",
        "sq_diff_list[0:5]\n",
        "</pre>\n",
        "Why is this an end? Because it is no longer indented. As soon as Python sees a non-indented line of code, it says that's it, I now know where the loop body ends.\n"
      ],
      "metadata": {
        "id": "shXvIUPNGgUB"
      }
    },
    {
      "cell_type": "markdown",
      "source": [
        "\n",
        "Let me show off a smaller example. DO NOT RUN THE CODE YET."
      ],
      "metadata": {
        "id": "CHcxaICtBWBx"
      }
    },
    {
      "cell_type": "markdown",
      "metadata": {
        "id": "0ungIhTKAdGb"
      },
      "source": [
        "<img src='https://www.dropbox.com/s/8x575mvbi1xumje/cash_line.png?raw=1' height=3 width=500><br>\n",
        "<img src='https://www.gannett-cdn.com/-mm-/56cbeec8287997813f287995de67747ba5e101d5/c=9-0-1280-718/local/-/media/2018/02/15/Phoenix/Phoenix/636542954131413889-image.jpg' \n",
        "height=50 align=center>\n",
        "\n",
        "Anyone want to predict what will be printed before I (or you) run the code below?\n",
        "\n",
        "BTW: this is not an easy problem. It forces you to simulate, in your head, what the code will do when it runs.\n",
        "\n"
      ]
    },
    {
      "cell_type": "code",
      "source": [
        "new_list = []\n",
        "small_list = [4,6,1,2]\n",
        "\n",
        "for item in small_list:\n",
        "  print(f'item: {item}')\n",
        "  result = 2*item\n",
        "  new_list = new_list + [result]\n",
        "  print(f'new_list: {new_list}')\n",
        "\n",
        "print(f'done. new_list: {new_list}')"
      ],
      "metadata": {
        "id": "Tu6caOwd_hs7",
        "colab": {
          "base_uri": "https://localhost:8080/"
        },
        "outputId": "ac1386c7-779e-48f2-862a-8ebcf2173b74"
      },
      "execution_count": 18,
      "outputs": [
        {
          "output_type": "stream",
          "name": "stdout",
          "text": [
            "item: 4\n",
            "new_list: [8]\n",
            "item: 6\n",
            "new_list: [8, 12]\n",
            "item: 1\n",
            "new_list: [8, 12, 2]\n",
            "item: 2\n",
            "new_list: [8, 12, 2, 4]\n",
            "done. new_list: [8, 12, 2, 4]\n"
          ]
        }
      ]
    },
    {
      "cell_type": "code",
      "source": [
        "'''\n",
        "4\n",
        "[8]\n",
        "6\n",
        "[8,12]\n",
        "1\n",
        "[8,12,2]\n",
        "2\n",
        "[8,12,2,4]\n",
        "done ..\n",
        "'''"
      ],
      "metadata": {
        "id": "sTsyDHhhS5p0",
        "colab": {
          "base_uri": "https://localhost:8080/",
          "height": 35
        },
        "outputId": "19701774-b82c-4ea3-f800-44a07c6f8169"
      },
      "execution_count": 19,
      "outputs": [
        {
          "output_type": "execute_result",
          "data": {
            "text/plain": [
              "'\\n4\\n[8]\\n6\\n[8,12]\\n1\\n[8,12,2]\\n2\\n[8,12,2,4]\\ndone ..\\n'"
            ],
            "application/vnd.google.colaboratory.intrinsic+json": {
              "type": "string"
            }
          },
          "metadata": {},
          "execution_count": 19
        }
      ]
    },
    {
      "cell_type": "markdown",
      "source": [
        "##A list-comprehension as alternative to for-loop\n",
        "\n",
        "It sounds scary right from the get-go! The term *comprehension* comes from Math, always a jargony realm.\n",
        "\n",
        "But here is the equivalent to the for-loop above in list-comprehension form."
      ],
      "metadata": {
        "id": "SRUz0mYNG3Cq"
      }
    },
    {
      "cell_type": "code",
      "source": [
        "sq_diff_list = [(item-apin_mean)**2 for item in apin_list]  #a list comprehension at work\n",
        "sq_diff_list[0:5]"
      ],
      "metadata": {
        "id": "9K7z7lO2HF9J",
        "colab": {
          "base_uri": "https://localhost:8080/"
        },
        "outputId": "1cc34e3f-177c-4bde-ce86-76fdca0cc1bc"
      },
      "execution_count": 20,
      "outputs": [
        {
          "output_type": "execute_result",
          "data": {
            "text/plain": [
              "[610322.2659765622,\n",
              " 5589589.403476561,\n",
              " 7735247.265976561,\n",
              " 404201.90347656276,\n",
              " 2784.540976562519]"
            ]
          },
          "metadata": {},
          "execution_count": 20
        }
      ]
    },
    {
      "cell_type": "markdown",
      "source": [
        "###Let's talk about this\n",
        "\n",
        "Here are the pieces of a list-comprehension:\n",
        "\n",
        "* **The square-brackets**.\n",
        "<pre>\n",
        "= [ ... ]\n",
        "</pre>\n",
        "They are the beginning and the end of the list-comprehension. So hard part is what goes between them.\n",
        "\n",
        "* **The for-loop look-a-like**.\n",
        "<pre>\n",
        "[ ... for item in apin_list]\n",
        "</pre>\n",
        "Works same as for-loop header. Assigns the variable `item`, one at a time, to values in `apin_list`. Confusing because it is now at end of the \"loop\" instead of starting it off. This is a choice the Python designers made. They could have put it at beginning. But chose to put it at end.\n",
        "\n",
        "* **The new list builder**.\n",
        "<pre>\n",
        "[(item-apin_mean)**2 ...]\n",
        "</pre>\n",
        "This is equivalent to the for-loop body where a result is computed and then do list addition with plus-sign. But it all happens behind the scenes now.\n"
      ],
      "metadata": {
        "id": "WFF0as3bHVZQ"
      }
    },
    {
      "cell_type": "markdown",
      "metadata": {
        "id": "ydyV7arJDtNq"
      },
      "source": [
        "<img src='https://www.dropbox.com/s/8x575mvbi1xumje/cash_line.png?raw=1' height=3 width=500><br>\n",
        "<img src='https://www.gannett-cdn.com/-mm-/56cbeec8287997813f287995de67747ba5e101d5/c=9-0-1280-718/local/-/media/2018/02/15/Phoenix/Phoenix/636542954131413889-image.jpg' \n",
        "height=50 align=center>\n",
        "\n",
        "Post answer: [Mural link](https://app.mural.co/invitation/mural/cis4236034/1639511781261?sender=u173416b87b3b8c1cbe335790&key=3993cb03-56a9-4fe5-b4d9-6304e32ff459)\n",
        "\n",
        "Write the equivalent of the for-loop below in form of a list-comprehension.\n",
        "\n"
      ]
    },
    {
      "cell_type": "code",
      "source": [
        "small_list = [4,6,1,2]"
      ],
      "metadata": {
        "id": "b0bUbrc_CtoH"
      },
      "execution_count": 21,
      "outputs": []
    },
    {
      "cell_type": "code",
      "source": [
        "#for-loop version\n",
        "new_list = []\n",
        "for item in small_list:\n",
        "  new_list = new_list + [2*item]\n",
        "print(f'done. new_list: {new_list}')"
      ],
      "metadata": {
        "colab": {
          "base_uri": "https://localhost:8080/"
        },
        "id": "qmnTvv95DN3L",
        "outputId": "9ede1cc9-b16c-470c-bba5-1b2c780d9a17"
      },
      "execution_count": 22,
      "outputs": [
        {
          "output_type": "stream",
          "name": "stdout",
          "text": [
            "done. new_list: [8, 12, 2, 4]\n"
          ]
        }
      ]
    },
    {
      "cell_type": "code",
      "source": [
        "#list comprehension version\n",
        "new_list = \n",
        "print(f'done. new_list: {new_list}')"
      ],
      "metadata": {
        "id": "N8MNZFvnDtNq",
        "colab": {
          "base_uri": "https://localhost:8080/",
          "height": 134
        },
        "outputId": "506c19cf-429b-4ca2-888e-0831b8eaaa63"
      },
      "execution_count": 24,
      "outputs": [
        {
          "output_type": "error",
          "ename": "SyntaxError",
          "evalue": "ignored",
          "traceback": [
            "\u001b[0;36m  File \u001b[0;32m\"<ipython-input-24-b148c103dfda>\"\u001b[0;36m, line \u001b[0;32m2\u001b[0m\n\u001b[0;31m    new_list =\u001b[0m\n\u001b[0m               ^\u001b[0m\n\u001b[0;31mSyntaxError\u001b[0m\u001b[0;31m:\u001b[0m invalid syntax\n"
          ]
        }
      ]
    },
    {
      "cell_type": "markdown",
      "source": [
        "###Which is better?\n",
        "\n",
        "**Case for and against for-loop:**\n",
        "\n",
        "* It is a swiss-army knife. It can do lots of things. Not just build new lists from old ones. You can put anything in the loop body.\n",
        "\n",
        "* A lot of code to get right. Easy to make a mistake.\n",
        "\n",
        "* It is easier to debug. You can put variables and `print` statements in the loop body and see how things are progressing.\n",
        "\n",
        "\n",
        "**Case for and against list-comprehension**: \n",
        "\n",
        "* It is one line of code. Less prone to making typing mistakes or leaving something out.\n",
        "\n",
        "* However, it is difficult to debug. You cannot use `print` statements to see what is going on. You cannot define intermediate variables.\n",
        "\n",
        "* It is a bit convoluted in its syntax.\n",
        "\n",
        "* It has really one job: build a new list from an old list. On the plus side, that is mostly what we will be doing when we are wrangling columns (lists of items) in a table.\n",
        "\n",
        "I'll try to show both versions at least for a litte while so you can decide which you like best."
      ],
      "metadata": {
        "id": "o7n1CZ6pHe3S"
      }
    },
    {
      "cell_type": "markdown",
      "source": [
        "###Complete the Variance\n",
        "\n",
        "We have the squared-diff list. Now get average."
      ],
      "metadata": {
        "id": "iBdwE3OyNT7E"
      }
    },
    {
      "cell_type": "code",
      "source": [
        "apin_variance = sum(sq_diff_list)/len(sq_diff_list)\n",
        "apin_variance"
      ],
      "metadata": {
        "id": "Iiu3BrWFNaQP",
        "colab": {
          "base_uri": "https://localhost:8080/"
        },
        "outputId": "3bf4a93a-cd6f-4d37-fd8b-fc94aff69171"
      },
      "execution_count": 25,
      "outputs": [
        {
          "output_type": "execute_result",
          "data": {
            "text/plain": [
              "32062136.673606828"
            ]
          },
          "metadata": {},
          "execution_count": 25
        }
      ]
    },
    {
      "cell_type": "markdown",
      "source": [
        "###We are ready to compute standard deviation\n",
        "\n",
        "We have done the hard work with the Variance. Now just take the square-root to get the standard deviation."
      ],
      "metadata": {
        "id": "GAJhglRUNGPi"
      }
    },
    {
      "cell_type": "code",
      "metadata": {
        "id": "eMY7GOF1Mak0",
        "colab": {
          "base_uri": "https://localhost:8080/"
        },
        "outputId": "f301445f-b6a8-4f42-af7f-59b245db0b32"
      },
      "source": [
        "apin_sigma = apin_variance**.5\n",
        "apin_sigma"
      ],
      "execution_count": 26,
      "outputs": [
        {
          "output_type": "execute_result",
          "data": {
            "text/plain": [
              "5662.343743857911"
            ]
          },
          "metadata": {},
          "execution_count": 26
        }
      ]
    },
    {
      "cell_type": "markdown",
      "source": [
        "###Compute the two boundaries of 3Sigma"
      ],
      "metadata": {
        "id": "9s6zge4UNy1z"
      }
    },
    {
      "cell_type": "code",
      "metadata": {
        "id": "yQTukX3dMJfb",
        "colab": {
          "base_uri": "https://localhost:8080/"
        },
        "outputId": "f0f31a0d-9397-459d-97a3-e9960e08c08d"
      },
      "source": [
        "apin_upper_boundary = apin_mean + 3*apin_sigma\n",
        "apin_upper_boundary"
      ],
      "execution_count": 27,
      "outputs": [
        {
          "output_type": "execute_result",
          "data": {
            "text/plain": [
              "22351.262481573733"
            ]
          },
          "metadata": {},
          "execution_count": 27
        }
      ]
    },
    {
      "cell_type": "code",
      "metadata": {
        "id": "HFrR6TEvM_rO",
        "colab": {
          "base_uri": "https://localhost:8080/"
        },
        "outputId": "5e22b081-5cce-4f48-b8b6-0cfdfad57845"
      },
      "source": [
        "apin_lower_boundary = apin_mean - 3*apin_sigma\n",
        "apin_lower_boundary"
      ],
      "execution_count": 28,
      "outputs": [
        {
          "output_type": "execute_result",
          "data": {
            "text/plain": [
              "-11622.799981573731"
            ]
          },
          "metadata": {},
          "execution_count": 28
        }
      ]
    },
    {
      "cell_type": "markdown",
      "source": [
        "##Ready for question 2: how to handle outliers?\n",
        "\n",
        "I am going to take a simple approach. I'll move any values beyond the walls to the walls. It is called *clipping*. And Puddles has a function for it."
      ],
      "metadata": {
        "id": "qU9rjAtapwkE"
      }
    },
    {
      "cell_type": "code",
      "source": [
        "apin_clipped = up_clip_list(apin_list, apin_lower_boundary, apin_upper_boundary)\n",
        "apin_clipped[0:5]"
      ],
      "metadata": {
        "id": "eD3dGlgLVGF9",
        "colab": {
          "base_uri": "https://localhost:8080/"
        },
        "outputId": "8f075539-e028-4321-c7b8-5740d94146a2"
      },
      "execution_count": 29,
      "outputs": [
        {
          "output_type": "stream",
          "name": "stdout",
          "text": [
            "Lower items clipped: 0\n",
            "Upper items clipped: 5\n"
          ]
        },
        {
          "output_type": "execute_result",
          "data": {
            "text/plain": [
              "[4583, 3000, 2583, 6000, 5417]"
            ]
          },
          "metadata": {},
          "execution_count": 29
        }
      ]
    },
    {
      "cell_type": "markdown",
      "source": [
        "##Now need to replace old column values with clipped ones\n",
        "\n",
        "We can use a new puddles function. We have seen `up_get_column` for getting the values in a column. Here is a new one, `up_set_column` for resetting the values in a column. Ying and Yang."
      ],
      "metadata": {
        "id": "dqm1xBx2V1HZ"
      }
    },
    {
      "cell_type": "code",
      "source": [
        "wrangled_loan_table_5 = up_set_column(wrangled_loan_table_4, 'ApplicantIncome', apin_clipped)"
      ],
      "metadata": {
        "id": "wILTBmVfV762"
      },
      "execution_count": 30,
      "outputs": []
    },
    {
      "cell_type": "markdown",
      "source": [
        "#Stop here for challenges\n",
        "\n"
      ],
      "metadata": {
        "id": "Mf41x8kxYGBk"
      }
    },
    {
      "cell_type": "markdown",
      "source": [
        "##What to avoid\n",
        "\n",
        "I know some of you have had prior programming experience. And you may be used to using an index variable as your loop variable. Here is how you do it in Python."
      ],
      "metadata": {
        "id": "0cX2MTBTYzr-"
      }
    },
    {
      "cell_type": "code",
      "source": [
        "for i in range(5):\n",
        "  print(i)"
      ],
      "metadata": {
        "id": "5hO3soSHZLND",
        "colab": {
          "base_uri": "https://localhost:8080/"
        },
        "outputId": "17981ab4-4b00-4bed-a359-c977d029fc88"
      },
      "execution_count": 31,
      "outputs": [
        {
          "output_type": "stream",
          "name": "stdout",
          "text": [
            "0\n",
            "1\n",
            "2\n",
            "3\n",
            "4\n"
          ]
        }
      ]
    },
    {
      "cell_type": "markdown",
      "source": [
        "##You should rarely need this `range` style of loop\n",
        "\n",
        "We are almost always looping over a list of items. So use what Python gives you to do that. It is a lot cleaner."
      ],
      "metadata": {
        "id": "IIpbj5OCZRbj"
      }
    },
    {
      "cell_type": "markdown",
      "source": [
        "###So not this"
      ],
      "metadata": {
        "id": "V7b4xYUIEL3R"
      }
    },
    {
      "cell_type": "code",
      "source": [
        "a_list = [5,6,1,3]"
      ],
      "metadata": {
        "id": "7Cw4MNb6ETG0"
      },
      "execution_count": 32,
      "outputs": []
    },
    {
      "cell_type": "code",
      "source": [
        "for i in range(len(a_list)):\n",
        "  item = a_list[i]\n",
        "  print(item)"
      ],
      "metadata": {
        "id": "DPZOyCygEOSa",
        "colab": {
          "base_uri": "https://localhost:8080/"
        },
        "outputId": "fc8765c6-0fd6-4895-aae6-7a4233de01f8"
      },
      "execution_count": 33,
      "outputs": [
        {
          "output_type": "stream",
          "name": "stdout",
          "text": [
            "5\n",
            "6\n",
            "1\n",
            "3\n"
          ]
        }
      ]
    },
    {
      "cell_type": "markdown",
      "source": [
        "###This instead"
      ],
      "metadata": {
        "id": "1czS7YlAEbQT"
      }
    },
    {
      "cell_type": "code",
      "source": [
        "for item in a_list:\n",
        "  print(item)"
      ],
      "metadata": {
        "id": "aDfG1swfZn6c",
        "colab": {
          "base_uri": "https://localhost:8080/"
        },
        "outputId": "72ffa4ba-f52c-4e56-df71-adbd87a09a12"
      },
      "execution_count": 34,
      "outputs": [
        {
          "output_type": "stream",
          "name": "stdout",
          "text": [
            "5\n",
            "6\n",
            "1\n",
            "3\n"
          ]
        }
      ]
    },
    {
      "cell_type": "markdown",
      "source": [
        "#Challenge 1\n",
        "<img src='https://www.dropbox.com/s/3uyvp722kp5to2r/assignment.png?raw=1' width='300'>\n",
        "\n",
        "Let's do some practice with loops. I'll give you a list. Please square each item and place in new list. Use both alternatives, for-loop and list-comprehension."
      ],
      "metadata": {
        "id": "I2l6SOca7RAC"
      }
    },
    {
      "cell_type": "code",
      "source": [
        "#here is existing list\n",
        "\n",
        "a_list = [9, 4.5, 3, 100.34, 6]"
      ],
      "metadata": {
        "id": "kjEZguf57qJU"
      },
      "execution_count": 35,
      "outputs": []
    },
    {
      "cell_type": "markdown",
      "source": [
        "##Problem 1.1\n",
        "\n",
        "Use a for-loop to do squaring.\n",
        "\n",
        "Here is what I ended up with in my new list:\n",
        "<pre>\n",
        "[81, 20.25, 9, 10068.115600000001, 36]\n",
        "</pre>"
      ],
      "metadata": {
        "id": "4C2kKpav7YO2"
      }
    },
    {
      "cell_type": "code",
      "source": [
        "new_list = [9, 4.5, 3, 100.34, 6]\n",
        "for item in new_list:\n",
        "  new_list = [item**2]\n",
        "  print(f'done. new_list: {new_list}')"
      ],
      "metadata": {
        "id": "Tj_IfItl72DC",
        "colab": {
          "base_uri": "https://localhost:8080/"
        },
        "outputId": "8df380d3-9282-42cf-febf-af1da87654d2"
      },
      "execution_count": 36,
      "outputs": [
        {
          "output_type": "stream",
          "name": "stdout",
          "text": [
            "done. new_list: [81]\n",
            "done. new_list: [20.25]\n",
            "done. new_list: [9]\n",
            "done. new_list: [10068.115600000001]\n",
            "done. new_list: [36]\n"
          ]
        }
      ]
    },
    {
      "cell_type": "markdown",
      "source": [
        "##Problem 1.2\n",
        "\n",
        "Now use a list-comprehension for squaring.\n",
        "\n",
        "Should get same result."
      ],
      "metadata": {
        "id": "PIpCNgbr7465"
      }
    },
    {
      "cell_type": "code",
      "source": [
        "new_list= [9, 4.5, 3, 100.34, 6]\n",
        "new_list = [item**2 for item in new_list]\n",
        "print(f'done. new_list: {new_list}')"
      ],
      "metadata": {
        "id": "ODFlzN8_7803",
        "colab": {
          "base_uri": "https://localhost:8080/"
        },
        "outputId": "d7fcd46d-91be-4426-9996-9274c01ab335"
      },
      "execution_count": 37,
      "outputs": [
        {
          "output_type": "stream",
          "name": "stdout",
          "text": [
            "done. new_list: [81, 20.25, 9, 10068.115600000001, 36]\n"
          ]
        }
      ]
    },
    {
      "cell_type": "markdown",
      "source": [
        "#Challenge 2\n",
        "<img src='https://www.dropbox.com/s/3uyvp722kp5to2r/assignment.png?raw=1' width='300'>\n",
        "\n",
        "This ones kind of hard. And mind expanding. Did you know that a list can contain other lists as items? It can! I'll show you."
      ],
      "metadata": {
        "id": "QtRBBTXL8agl"
      }
    },
    {
      "cell_type": "code",
      "source": [
        "list_of_lists = [[1,2,3],   #looks kind of like a matrix or table, right? Has rows and columns.\n",
        "                 [4,5,6],\n",
        "                 [7,8,9]]\n",
        "list_of_lists"
      ],
      "metadata": {
        "id": "4cnWHGGfG5zW",
        "colab": {
          "base_uri": "https://localhost:8080/"
        },
        "outputId": "ce0a5eb9-e592-4f6c-c0b1-d968bb0efd6f"
      },
      "execution_count": 38,
      "outputs": [
        {
          "output_type": "execute_result",
          "data": {
            "text/plain": [
              "[[1, 2, 3], [4, 5, 6], [7, 8, 9]]"
            ]
          },
          "metadata": {},
          "execution_count": 38
        }
      ]
    },
    {
      "cell_type": "markdown",
      "source": [
        "If you are math inclined, you can view it as a proto-matrix. Or even as a kind of table (that is missing column names). So has 3 rows and 3 columns.\n",
        "\n",
        "Indexing works as usual."
      ],
      "metadata": {
        "id": "q3CY1sXzGra9"
      }
    },
    {
      "cell_type": "code",
      "source": [
        "list1 = list_of_lists[0]  #get first item/row, which is another list!\n",
        "list1"
      ],
      "metadata": {
        "id": "ugBTPNndHI54",
        "colab": {
          "base_uri": "https://localhost:8080/"
        },
        "outputId": "cf87c630-e85c-42e3-a024-598124974de6"
      },
      "execution_count": 39,
      "outputs": [
        {
          "output_type": "execute_result",
          "data": {
            "text/plain": [
              "[1, 2, 3]"
            ]
          },
          "metadata": {},
          "execution_count": 39
        }
      ]
    },
    {
      "cell_type": "code",
      "source": [
        "list1[1]  #get 2nd item, which is a number"
      ],
      "metadata": {
        "id": "zIaMd8f2HZKC",
        "colab": {
          "base_uri": "https://localhost:8080/"
        },
        "outputId": "46e6834b-d536-42e2-dae8-314885916661"
      },
      "execution_count": 40,
      "outputs": [
        {
          "output_type": "execute_result",
          "data": {
            "text/plain": [
              "2"
            ]
          },
          "metadata": {},
          "execution_count": 40
        }
      ]
    },
    {
      "cell_type": "markdown",
      "source": [
        "###Or"
      ],
      "metadata": {
        "id": "v9gFyI7RIAe8"
      }
    },
    {
      "cell_type": "code",
      "source": [
        "list_of_lists[0][1]  #shorthand that is called index chaining"
      ],
      "metadata": {
        "id": "CinV80E2ICj2",
        "colab": {
          "base_uri": "https://localhost:8080/"
        },
        "outputId": "250a4da7-3a8c-430b-9982-34002f6824e6"
      },
      "execution_count": 41,
      "outputs": [
        {
          "output_type": "execute_result",
          "data": {
            "text/plain": [
              "2"
            ]
          },
          "metadata": {},
          "execution_count": 41
        }
      ]
    },
    {
      "cell_type": "markdown",
      "source": [
        "Maybe this picture helps.\n",
        "\n",
        "<img src='https://www.dropbox.com/s/pcqog1kk6vuwruy/Screen%20Shot%202022-04-08%20at%209.59.47%20AM.png?raw=1' height=200>"
      ],
      "metadata": {
        "id": "V53buLbWHl36"
      }
    },
    {
      "cell_type": "markdown",
      "source": [
        "Please write a loop that goes through any list of lists, and sums the `ith` item in each internal list, where the variable `i` will be set by you. In essence, you are summing a specific column.\n",
        "\n",
        "I'll demonstrate first manually without a loop for `list_of_lists` and `col=1`. Kind of a drudge!"
      ],
      "metadata": {
        "id": "5Q-8qQSYHdc1"
      }
    },
    {
      "cell_type": "code",
      "source": [
        "list_of_lists = [[1,2,3],  \n",
        "                 [4,5,6],\n",
        "                 [7,8,9]]"
      ],
      "metadata": {
        "id": "1Y85OPxwH5T6"
      },
      "execution_count": 55,
      "outputs": []
    },
    {
      "cell_type": "code",
      "source": [
        "col_list = []\n",
        "col=1\n",
        "single_list = list_of_lists[0] #first row [1,2,3]\n",
        "col_val = single_list[col] #2\n",
        "col_list = col_list + [col_val] #[2]\n",
        "\n",
        "single_list = list_of_lists[1] #second row [4,5,6]\n",
        "col_val = single_list[col] #5\n",
        "col_list = col_list + [col_val] #[2,5]\n",
        "\n",
        "single_list = list_of_lists[2] #third row [7,8,9]\n",
        "col_val = single_list[col] #8\n",
        "col_list = col_list + [col_val] #[2,5,8]\n",
        "\n",
        "sum(col_list)  #15"
      ],
      "metadata": {
        "id": "v9WvzIRFeskV",
        "colab": {
          "base_uri": "https://localhost:8080/"
        },
        "outputId": "786e7e6b-f7c1-466c-9874-ca4f4bf57ad6"
      },
      "execution_count": 60,
      "outputs": [
        {
          "output_type": "execute_result",
          "data": {
            "text/plain": [
              "15"
            ]
          },
          "metadata": {},
          "execution_count": 60
        }
      ]
    },
    {
      "cell_type": "markdown",
      "source": [
        "##Step 2.1: try it as a for-loop\n",
        "\n",
        "Notice that these 2 lines never change so good candidates for the loop-body:\n",
        "<pre>\n",
        "col_val = single_list[col]\n",
        "col_list = col_list + [col_val]\n",
        "</pre>\n",
        "\n",
        "Some of you may be tempted to use\n",
        "\n",
        " `for i in range(len(list_of_lists)):`\n",
        " \n",
        " Please refrain :)"
      ],
      "metadata": {
        "id": "1MYmBY-EgBgU"
      }
    },
    {
      "cell_type": "code",
      "source": [
        "col_list = []\n",
        "col=1\n",
        "for single_list in list_of_lists:\n",
        "  col_val = single_list[col] #2\n",
        "  col_list = col_list + [col_val] #[2]\n",
        "\n",
        "\n",
        "\n",
        "sum(col_list)  #15"
      ],
      "metadata": {
        "id": "jLMLlAqxgIbZ",
        "colab": {
          "base_uri": "https://localhost:8080/"
        },
        "outputId": "ce916d05-8c6b-4fc9-e2ca-fed72ff3ee53"
      },
      "execution_count": 61,
      "outputs": [
        {
          "output_type": "execute_result",
          "data": {
            "text/plain": [
              "15"
            ]
          },
          "metadata": {},
          "execution_count": 61
        }
      ]
    },
    {
      "cell_type": "markdown",
      "source": [
        "##Step 2.2: try it as a list comprehension\n",
        "\n",
        "You won't be able to us the intermediate variable `col_val`.\n"
      ],
      "metadata": {
        "id": "knBUUi0tgYJ7"
      }
    },
    {
      "cell_type": "code",
      "source": [
        "col_list=[single_list[col] for single_list in list_of_lists]\n",
        "col_list\n",
        "sum(col_list)"
      ],
      "metadata": {
        "id": "KLshpjEVgdy9",
        "colab": {
          "base_uri": "https://localhost:8080/"
        },
        "outputId": "93a17096-5475-4ab0-bb01-db62d44c55a2"
      },
      "execution_count": 66,
      "outputs": [
        {
          "output_type": "execute_result",
          "data": {
            "text/plain": [
              "15"
            ]
          },
          "metadata": {},
          "execution_count": 66
        }
      ]
    },
    {
      "cell_type": "markdown",
      "source": [
        "##Step 2.3: try on new list and new col\n",
        "\n",
        "I'll give you a new list of lists and a new column to sum. You should be able to just copy either 2.1 or 2.2 answer below and it should work without modification.\n"
      ],
      "metadata": {
        "id": "3LgqXsIqIqqN"
      }
    },
    {
      "cell_type": "code",
      "source": [
        "list_of_lists = [[1,2,3,20],\n",
        "                 [4,5,6,21],\n",
        "                 [3,2,1,23],\n",
        "                 [7,8,9,22]]\n",
        "list_of_lists"
      ],
      "metadata": {
        "colab": {
          "base_uri": "https://localhost:8080/"
        },
        "id": "mSL5CHtuJEbY",
        "outputId": "8a43235e-7f66-468c-94d6-649f2f80e9c6"
      },
      "execution_count": 71,
      "outputs": [
        {
          "output_type": "execute_result",
          "data": {
            "text/plain": [
              "[[1, 2, 3, 20], [4, 5, 6, 21], [3, 2, 1, 23], [7, 8, 9, 22]]"
            ]
          },
          "metadata": {},
          "execution_count": 71
        }
      ]
    },
    {
      "cell_type": "code",
      "source": [
        "col = 3"
      ],
      "metadata": {
        "id": "i30LY2-AJXa5"
      },
      "execution_count": 69,
      "outputs": []
    },
    {
      "cell_type": "code",
      "source": [
        "col_list=[single_list[col] for single_list in list_of_lists]\n",
        "col_list\n",
        "\n",
        "sum(col_list)  #86"
      ],
      "metadata": {
        "colab": {
          "base_uri": "https://localhost:8080/"
        },
        "id": "Rs5CTyQKJavF",
        "outputId": "7e25e536-e1ab-468a-85d2-dd891d267adb"
      },
      "execution_count": 72,
      "outputs": [
        {
          "output_type": "execute_result",
          "data": {
            "text/plain": [
              "86"
            ]
          },
          "metadata": {},
          "execution_count": 72
        }
      ]
    },
    {
      "cell_type": "markdown",
      "source": [
        "We could bring in other libraries, e.g., one called `numpy`, that would allow us to grab any column without a loop. But not with plain old Python."
      ],
      "metadata": {
        "id": "Rk4O9XYZjYt-"
      }
    },
    {
      "cell_type": "markdown",
      "source": [
        "#Challenge 3\n",
        "<img src='https://www.dropbox.com/s/3uyvp722kp5to2r/assignment.png?raw=1' width='300'>\n",
        "\n",
        "Go ahead and map the remaining 5 categorical columns to numeric. \n",
        "\n",
        "For a mapping scheme, if a column has a negative/positive style value, use 0 for the negative and 1 for the positive. If it has numbers as strings, as in `Dependents`, use a natural mapping. For  `Property_Area`, you can use an arbitrary mapping but use this to be consistent with me: `Semiurban` 0, `Rural` 1, `Urban` 2. \n",
        "\n",
        "Here is a reminder of where we sit. You can see the 5 string columns and the values you have to map."
      ],
      "metadata": {
        "id": "XmT-N-kAuF1V"
      }
    },
    {
      "cell_type": "code",
      "source": [
        "up_get_column_types(wrangled_loan_table_4)"
      ],
      "metadata": {
        "id": "-55_QfBoKaUV",
        "colab": {
          "base_uri": "https://localhost:8080/",
          "height": 425
        },
        "outputId": "48f0ef4d-8cf2-4b80-c613-919ae41d020c"
      },
      "execution_count": 47,
      "outputs": [
        {
          "output_type": "execute_result",
          "data": {
            "text/plain": [
              "               Column   Type                  Unique<10\n",
              "0              Gender    int                        ...\n",
              "1             Married    int                        ...\n",
              "2          Dependents    str              {1, 2, 0, 3+}\n",
              "3           Education    str   {Not Graduate, Graduate}\n",
              "4       Self_Employed    str                  {Yes, No}\n",
              "5     ApplicantIncome    int                        ...\n",
              "6   CoapplicantIncome  float                        ...\n",
              "7          LoanAmount  float                        ...\n",
              "8    Loan_Amount_Term  float                        ...\n",
              "9      Credit_History  float                        ...\n",
              "10      Property_Area    str  {Semiurban, Urban, Rural}\n",
              "11        Loan_Status    str                     {N, Y}"
            ],
            "text/html": [
              "\n",
              "  <div id=\"df-dbaaa771-1eb7-4ab0-977f-0773f1233650\">\n",
              "    <div class=\"colab-df-container\">\n",
              "      <div>\n",
              "<style scoped>\n",
              "    .dataframe tbody tr th:only-of-type {\n",
              "        vertical-align: middle;\n",
              "    }\n",
              "\n",
              "    .dataframe tbody tr th {\n",
              "        vertical-align: top;\n",
              "    }\n",
              "\n",
              "    .dataframe thead th {\n",
              "        text-align: right;\n",
              "    }\n",
              "</style>\n",
              "<table border=\"1\" class=\"dataframe\">\n",
              "  <thead>\n",
              "    <tr style=\"text-align: right;\">\n",
              "      <th></th>\n",
              "      <th>Column</th>\n",
              "      <th>Type</th>\n",
              "      <th>Unique&lt;10</th>\n",
              "    </tr>\n",
              "  </thead>\n",
              "  <tbody>\n",
              "    <tr>\n",
              "      <th>0</th>\n",
              "      <td>Gender</td>\n",
              "      <td>int</td>\n",
              "      <td>...</td>\n",
              "    </tr>\n",
              "    <tr>\n",
              "      <th>1</th>\n",
              "      <td>Married</td>\n",
              "      <td>int</td>\n",
              "      <td>...</td>\n",
              "    </tr>\n",
              "    <tr>\n",
              "      <th>2</th>\n",
              "      <td>Dependents</td>\n",
              "      <td>str</td>\n",
              "      <td>{1, 2, 0, 3+}</td>\n",
              "    </tr>\n",
              "    <tr>\n",
              "      <th>3</th>\n",
              "      <td>Education</td>\n",
              "      <td>str</td>\n",
              "      <td>{Not Graduate, Graduate}</td>\n",
              "    </tr>\n",
              "    <tr>\n",
              "      <th>4</th>\n",
              "      <td>Self_Employed</td>\n",
              "      <td>str</td>\n",
              "      <td>{Yes, No}</td>\n",
              "    </tr>\n",
              "    <tr>\n",
              "      <th>5</th>\n",
              "      <td>ApplicantIncome</td>\n",
              "      <td>int</td>\n",
              "      <td>...</td>\n",
              "    </tr>\n",
              "    <tr>\n",
              "      <th>6</th>\n",
              "      <td>CoapplicantIncome</td>\n",
              "      <td>float</td>\n",
              "      <td>...</td>\n",
              "    </tr>\n",
              "    <tr>\n",
              "      <th>7</th>\n",
              "      <td>LoanAmount</td>\n",
              "      <td>float</td>\n",
              "      <td>...</td>\n",
              "    </tr>\n",
              "    <tr>\n",
              "      <th>8</th>\n",
              "      <td>Loan_Amount_Term</td>\n",
              "      <td>float</td>\n",
              "      <td>...</td>\n",
              "    </tr>\n",
              "    <tr>\n",
              "      <th>9</th>\n",
              "      <td>Credit_History</td>\n",
              "      <td>float</td>\n",
              "      <td>...</td>\n",
              "    </tr>\n",
              "    <tr>\n",
              "      <th>10</th>\n",
              "      <td>Property_Area</td>\n",
              "      <td>str</td>\n",
              "      <td>{Semiurban, Urban, Rural}</td>\n",
              "    </tr>\n",
              "    <tr>\n",
              "      <th>11</th>\n",
              "      <td>Loan_Status</td>\n",
              "      <td>str</td>\n",
              "      <td>{N, Y}</td>\n",
              "    </tr>\n",
              "  </tbody>\n",
              "</table>\n",
              "</div>\n",
              "      <button class=\"colab-df-convert\" onclick=\"convertToInteractive('df-dbaaa771-1eb7-4ab0-977f-0773f1233650')\"\n",
              "              title=\"Convert this dataframe to an interactive table.\"\n",
              "              style=\"display:none;\">\n",
              "        \n",
              "  <svg xmlns=\"http://www.w3.org/2000/svg\" height=\"24px\"viewBox=\"0 0 24 24\"\n",
              "       width=\"24px\">\n",
              "    <path d=\"M0 0h24v24H0V0z\" fill=\"none\"/>\n",
              "    <path d=\"M18.56 5.44l.94 2.06.94-2.06 2.06-.94-2.06-.94-.94-2.06-.94 2.06-2.06.94zm-11 1L8.5 8.5l.94-2.06 2.06-.94-2.06-.94L8.5 2.5l-.94 2.06-2.06.94zm10 10l.94 2.06.94-2.06 2.06-.94-2.06-.94-.94-2.06-.94 2.06-2.06.94z\"/><path d=\"M17.41 7.96l-1.37-1.37c-.4-.4-.92-.59-1.43-.59-.52 0-1.04.2-1.43.59L10.3 9.45l-7.72 7.72c-.78.78-.78 2.05 0 2.83L4 21.41c.39.39.9.59 1.41.59.51 0 1.02-.2 1.41-.59l7.78-7.78 2.81-2.81c.8-.78.8-2.07 0-2.86zM5.41 20L4 18.59l7.72-7.72 1.47 1.35L5.41 20z\"/>\n",
              "  </svg>\n",
              "      </button>\n",
              "      \n",
              "  <style>\n",
              "    .colab-df-container {\n",
              "      display:flex;\n",
              "      flex-wrap:wrap;\n",
              "      gap: 12px;\n",
              "    }\n",
              "\n",
              "    .colab-df-convert {\n",
              "      background-color: #E8F0FE;\n",
              "      border: none;\n",
              "      border-radius: 50%;\n",
              "      cursor: pointer;\n",
              "      display: none;\n",
              "      fill: #1967D2;\n",
              "      height: 32px;\n",
              "      padding: 0 0 0 0;\n",
              "      width: 32px;\n",
              "    }\n",
              "\n",
              "    .colab-df-convert:hover {\n",
              "      background-color: #E2EBFA;\n",
              "      box-shadow: 0px 1px 2px rgba(60, 64, 67, 0.3), 0px 1px 3px 1px rgba(60, 64, 67, 0.15);\n",
              "      fill: #174EA6;\n",
              "    }\n",
              "\n",
              "    [theme=dark] .colab-df-convert {\n",
              "      background-color: #3B4455;\n",
              "      fill: #D2E3FC;\n",
              "    }\n",
              "\n",
              "    [theme=dark] .colab-df-convert:hover {\n",
              "      background-color: #434B5C;\n",
              "      box-shadow: 0px 1px 3px 1px rgba(0, 0, 0, 0.15);\n",
              "      filter: drop-shadow(0px 1px 2px rgba(0, 0, 0, 0.3));\n",
              "      fill: #FFFFFF;\n",
              "    }\n",
              "  </style>\n",
              "\n",
              "      <script>\n",
              "        const buttonEl =\n",
              "          document.querySelector('#df-dbaaa771-1eb7-4ab0-977f-0773f1233650 button.colab-df-convert');\n",
              "        buttonEl.style.display =\n",
              "          google.colab.kernel.accessAllowed ? 'block' : 'none';\n",
              "\n",
              "        async function convertToInteractive(key) {\n",
              "          const element = document.querySelector('#df-dbaaa771-1eb7-4ab0-977f-0773f1233650');\n",
              "          const dataTable =\n",
              "            await google.colab.kernel.invokeFunction('convertToInteractive',\n",
              "                                                     [key], {});\n",
              "          if (!dataTable) return;\n",
              "\n",
              "          const docLinkHtml = 'Like what you see? Visit the ' +\n",
              "            '<a target=\"_blank\" href=https://colab.research.google.com/notebooks/data_table.ipynb>data table notebook</a>'\n",
              "            + ' to learn more about interactive tables.';\n",
              "          element.innerHTML = '';\n",
              "          dataTable['output_type'] = 'display_data';\n",
              "          await google.colab.output.renderOutput(dataTable, element);\n",
              "          const docLink = document.createElement('div');\n",
              "          docLink.innerHTML = docLinkHtml;\n",
              "          element.appendChild(docLink);\n",
              "        }\n",
              "      </script>\n",
              "    </div>\n",
              "  </div>\n",
              "  "
            ]
          },
          "metadata": {},
          "execution_count": 47
        }
      ]
    },
    {
      "cell_type": "code",
      "source": [
        "wrangled_loan_table_5 = up_map_column(wrangled_loan_table_4, 'Dependents', {'0': 0, '1': 1, '2': 2, '3+':3})\n",
        "wrangled_loan_table_6 = up_map_column(wrangled_loan_table_5, 'Education', {'Graduate': 1, 'Not Graduate': 0})\n",
        "wrangled_loan_table_7 = up_map_column(wrangled_loan_table_6, 'Self_Employed', {'No':0, 'Yes':1 })\n",
        "wrangled_loan_table_8 = up_map_column(wrangled_loan_table_7, 'Property_Area',  {'Rural':0, 'Semiurban':1, 'Urban': 2})\n",
        "wrangled_loan_table_9 = up_map_column(wrangled_loan_table_8, 'Loan_Status', {'N':0, 'Y':1})\n"
      ],
      "metadata": {
        "id": "T0XimaZmvEmQ"
      },
      "execution_count": 49,
      "outputs": []
    },
    {
      "cell_type": "code",
      "source": [
        "up_get_column_types(wrangled_loan_table_9)  #my final table is in variable wrangled_loan_table_10 - yours may be different"
      ],
      "metadata": {
        "id": "AMoSIQeYMF_v",
        "colab": {
          "base_uri": "https://localhost:8080/",
          "height": 425
        },
        "outputId": "de5ba971-3479-496f-c4ff-5d3314c6242b"
      },
      "execution_count": 50,
      "outputs": [
        {
          "output_type": "execute_result",
          "data": {
            "text/plain": [
              "               Column   Type Unique<10\n",
              "0              Gender    int       ...\n",
              "1             Married    int       ...\n",
              "2          Dependents    int       ...\n",
              "3           Education    int       ...\n",
              "4       Self_Employed    int       ...\n",
              "5     ApplicantIncome    int       ...\n",
              "6   CoapplicantIncome  float       ...\n",
              "7          LoanAmount  float       ...\n",
              "8    Loan_Amount_Term  float       ...\n",
              "9      Credit_History  float       ...\n",
              "10      Property_Area    int       ...\n",
              "11        Loan_Status    int       ..."
            ],
            "text/html": [
              "\n",
              "  <div id=\"df-9a619ddb-c61b-4ebb-a2d1-d583f8b1cedf\">\n",
              "    <div class=\"colab-df-container\">\n",
              "      <div>\n",
              "<style scoped>\n",
              "    .dataframe tbody tr th:only-of-type {\n",
              "        vertical-align: middle;\n",
              "    }\n",
              "\n",
              "    .dataframe tbody tr th {\n",
              "        vertical-align: top;\n",
              "    }\n",
              "\n",
              "    .dataframe thead th {\n",
              "        text-align: right;\n",
              "    }\n",
              "</style>\n",
              "<table border=\"1\" class=\"dataframe\">\n",
              "  <thead>\n",
              "    <tr style=\"text-align: right;\">\n",
              "      <th></th>\n",
              "      <th>Column</th>\n",
              "      <th>Type</th>\n",
              "      <th>Unique&lt;10</th>\n",
              "    </tr>\n",
              "  </thead>\n",
              "  <tbody>\n",
              "    <tr>\n",
              "      <th>0</th>\n",
              "      <td>Gender</td>\n",
              "      <td>int</td>\n",
              "      <td>...</td>\n",
              "    </tr>\n",
              "    <tr>\n",
              "      <th>1</th>\n",
              "      <td>Married</td>\n",
              "      <td>int</td>\n",
              "      <td>...</td>\n",
              "    </tr>\n",
              "    <tr>\n",
              "      <th>2</th>\n",
              "      <td>Dependents</td>\n",
              "      <td>int</td>\n",
              "      <td>...</td>\n",
              "    </tr>\n",
              "    <tr>\n",
              "      <th>3</th>\n",
              "      <td>Education</td>\n",
              "      <td>int</td>\n",
              "      <td>...</td>\n",
              "    </tr>\n",
              "    <tr>\n",
              "      <th>4</th>\n",
              "      <td>Self_Employed</td>\n",
              "      <td>int</td>\n",
              "      <td>...</td>\n",
              "    </tr>\n",
              "    <tr>\n",
              "      <th>5</th>\n",
              "      <td>ApplicantIncome</td>\n",
              "      <td>int</td>\n",
              "      <td>...</td>\n",
              "    </tr>\n",
              "    <tr>\n",
              "      <th>6</th>\n",
              "      <td>CoapplicantIncome</td>\n",
              "      <td>float</td>\n",
              "      <td>...</td>\n",
              "    </tr>\n",
              "    <tr>\n",
              "      <th>7</th>\n",
              "      <td>LoanAmount</td>\n",
              "      <td>float</td>\n",
              "      <td>...</td>\n",
              "    </tr>\n",
              "    <tr>\n",
              "      <th>8</th>\n",
              "      <td>Loan_Amount_Term</td>\n",
              "      <td>float</td>\n",
              "      <td>...</td>\n",
              "    </tr>\n",
              "    <tr>\n",
              "      <th>9</th>\n",
              "      <td>Credit_History</td>\n",
              "      <td>float</td>\n",
              "      <td>...</td>\n",
              "    </tr>\n",
              "    <tr>\n",
              "      <th>10</th>\n",
              "      <td>Property_Area</td>\n",
              "      <td>int</td>\n",
              "      <td>...</td>\n",
              "    </tr>\n",
              "    <tr>\n",
              "      <th>11</th>\n",
              "      <td>Loan_Status</td>\n",
              "      <td>int</td>\n",
              "      <td>...</td>\n",
              "    </tr>\n",
              "  </tbody>\n",
              "</table>\n",
              "</div>\n",
              "      <button class=\"colab-df-convert\" onclick=\"convertToInteractive('df-9a619ddb-c61b-4ebb-a2d1-d583f8b1cedf')\"\n",
              "              title=\"Convert this dataframe to an interactive table.\"\n",
              "              style=\"display:none;\">\n",
              "        \n",
              "  <svg xmlns=\"http://www.w3.org/2000/svg\" height=\"24px\"viewBox=\"0 0 24 24\"\n",
              "       width=\"24px\">\n",
              "    <path d=\"M0 0h24v24H0V0z\" fill=\"none\"/>\n",
              "    <path d=\"M18.56 5.44l.94 2.06.94-2.06 2.06-.94-2.06-.94-.94-2.06-.94 2.06-2.06.94zm-11 1L8.5 8.5l.94-2.06 2.06-.94-2.06-.94L8.5 2.5l-.94 2.06-2.06.94zm10 10l.94 2.06.94-2.06 2.06-.94-2.06-.94-.94-2.06-.94 2.06-2.06.94z\"/><path d=\"M17.41 7.96l-1.37-1.37c-.4-.4-.92-.59-1.43-.59-.52 0-1.04.2-1.43.59L10.3 9.45l-7.72 7.72c-.78.78-.78 2.05 0 2.83L4 21.41c.39.39.9.59 1.41.59.51 0 1.02-.2 1.41-.59l7.78-7.78 2.81-2.81c.8-.78.8-2.07 0-2.86zM5.41 20L4 18.59l7.72-7.72 1.47 1.35L5.41 20z\"/>\n",
              "  </svg>\n",
              "      </button>\n",
              "      \n",
              "  <style>\n",
              "    .colab-df-container {\n",
              "      display:flex;\n",
              "      flex-wrap:wrap;\n",
              "      gap: 12px;\n",
              "    }\n",
              "\n",
              "    .colab-df-convert {\n",
              "      background-color: #E8F0FE;\n",
              "      border: none;\n",
              "      border-radius: 50%;\n",
              "      cursor: pointer;\n",
              "      display: none;\n",
              "      fill: #1967D2;\n",
              "      height: 32px;\n",
              "      padding: 0 0 0 0;\n",
              "      width: 32px;\n",
              "    }\n",
              "\n",
              "    .colab-df-convert:hover {\n",
              "      background-color: #E2EBFA;\n",
              "      box-shadow: 0px 1px 2px rgba(60, 64, 67, 0.3), 0px 1px 3px 1px rgba(60, 64, 67, 0.15);\n",
              "      fill: #174EA6;\n",
              "    }\n",
              "\n",
              "    [theme=dark] .colab-df-convert {\n",
              "      background-color: #3B4455;\n",
              "      fill: #D2E3FC;\n",
              "    }\n",
              "\n",
              "    [theme=dark] .colab-df-convert:hover {\n",
              "      background-color: #434B5C;\n",
              "      box-shadow: 0px 1px 3px 1px rgba(0, 0, 0, 0.15);\n",
              "      filter: drop-shadow(0px 1px 2px rgba(0, 0, 0, 0.3));\n",
              "      fill: #FFFFFF;\n",
              "    }\n",
              "  </style>\n",
              "\n",
              "      <script>\n",
              "        const buttonEl =\n",
              "          document.querySelector('#df-9a619ddb-c61b-4ebb-a2d1-d583f8b1cedf button.colab-df-convert');\n",
              "        buttonEl.style.display =\n",
              "          google.colab.kernel.accessAllowed ? 'block' : 'none';\n",
              "\n",
              "        async function convertToInteractive(key) {\n",
              "          const element = document.querySelector('#df-9a619ddb-c61b-4ebb-a2d1-d583f8b1cedf');\n",
              "          const dataTable =\n",
              "            await google.colab.kernel.invokeFunction('convertToInteractive',\n",
              "                                                     [key], {});\n",
              "          if (!dataTable) return;\n",
              "\n",
              "          const docLinkHtml = 'Like what you see? Visit the ' +\n",
              "            '<a target=\"_blank\" href=https://colab.research.google.com/notebooks/data_table.ipynb>data table notebook</a>'\n",
              "            + ' to learn more about interactive tables.';\n",
              "          element.innerHTML = '';\n",
              "          dataTable['output_type'] = 'display_data';\n",
              "          await google.colab.output.renderOutput(dataTable, element);\n",
              "          const docLink = document.createElement('div');\n",
              "          docLink.innerHTML = docLinkHtml;\n",
              "          element.appendChild(docLink);\n",
              "        }\n",
              "      </script>\n",
              "    </div>\n",
              "  </div>\n",
              "  "
            ]
          },
          "metadata": {},
          "execution_count": 50
        }
      ]
    },
    {
      "cell_type": "markdown",
      "source": [
        "###What you should see\n",
        "\n",
        "<img src='https://www.dropbox.com/s/p6q51qqukgww2ny/Screen%20Shot%202022-03-23%20at%2012.11.27%20PM.png?raw=1' height=300>"
      ],
      "metadata": {
        "id": "LAUCfiUiMQVk"
      }
    },
    {
      "cell_type": "markdown",
      "source": [
        "If you see a `mixed` type, you have forgotten to map one of the values, leaving you with a mixture of strings and ints. This won't work so find the bug!"
      ],
      "metadata": {
        "id": "8ePbm7YJKgpQ"
      }
    },
    {
      "cell_type": "markdown",
      "source": [
        "#Challenge 4\n",
        "<img src='https://www.dropbox.com/s/3uyvp722kp5to2r/assignment.png?raw=1' width='300'>\n",
        "\n",
        "Clip the `CoapplicantIncome`\tand `LoanAmount` columns using 3Sigma.\n"
      ],
      "metadata": {
        "id": "4sSsmh-Buspb"
      }
    },
    {
      "cell_type": "markdown",
      "source": [
        "##Problem 4.1\n",
        "\n",
        "Clip `CoapplicantIncome` first using 3Sigma."
      ],
      "metadata": {
        "id": "cTxSZ9yuNcqb"
      }
    },
    {
      "cell_type": "code",
      "source": [
        "coapin_list= up_get_column(wrangled_loan_table_9, 'CoapplicantIncome')\n",
        "coapin_mean = sum(coapin_list)/len(coapin_list)\n",
        "coapin_mean\n"
      ],
      "metadata": {
        "id": "S0GcQmIAAr7_",
        "colab": {
          "base_uri": "https://localhost:8080/"
        },
        "outputId": "d6100c1d-4d67-494f-d19b-cad05f9d7057"
      },
      "execution_count": 75,
      "outputs": [
        {
          "output_type": "execute_result",
          "data": {
            "text/plain": [
              "1581.0935833096667"
            ]
          },
          "metadata": {},
          "execution_count": 75
        }
      ]
    },
    {
      "cell_type": "code",
      "source": [
        "sq_diff_list = []  \n",
        "\n",
        "for item in coapin_list:\n",
        "  result = (item - coapin_mean)**2\n",
        "  sq_diff_list = sq_diff_list + [result]  \n",
        "\n",
        "sq_diff_list[0:5]  \n"
      ],
      "metadata": {
        "colab": {
          "base_uri": "https://localhost:8080/"
        },
        "id": "FhRVxgGKRcYA",
        "outputId": "fbdff357-cfc3-46ec-9294-bd35bfd4aaae"
      },
      "execution_count": 76,
      "outputs": [
        {
          "output_type": "execute_result",
          "data": {
            "text/plain": [
              "[5342.67192104718,\n",
              " 2499856.919183002,\n",
              " 603583.5802946138,\n",
              " 2499856.919183002,\n",
              " 6837735.568048281]"
            ]
          },
          "metadata": {},
          "execution_count": 76
        }
      ]
    },
    {
      "cell_type": "code",
      "source": [
        "coapin_variance = sum(sq_diff_list)/len(sq_diff_list)\n",
        "coapin_variance"
      ],
      "metadata": {
        "colab": {
          "base_uri": "https://localhost:8080/"
        },
        "outputId": "e5f56060-3d26-4497-b803-02d0011226bd",
        "id": "7yU2r9GsSVCe"
      },
      "execution_count": 77,
      "outputs": [
        {
          "output_type": "execute_result",
          "data": {
            "text/plain": [
              "6838037.152630272"
            ]
          },
          "metadata": {},
          "execution_count": 77
        }
      ]
    },
    {
      "cell_type": "code",
      "metadata": {
        "colab": {
          "base_uri": "https://localhost:8080/"
        },
        "outputId": "2cf0eea4-77c7-4314-b9ac-29ffa72e0a51",
        "id": "kGWI_V28SVCi"
      },
      "source": [
        "coapin_sigma = coapin_variance**.5\n",
        "coapin_sigma"
      ],
      "execution_count": 78,
      "outputs": [
        {
          "output_type": "execute_result",
          "data": {
            "text/plain": [
              "2614.9640824742264"
            ]
          },
          "metadata": {},
          "execution_count": 78
        }
      ]
    },
    {
      "cell_type": "markdown",
      "source": [
        "###Compute the two boundaries of 3Sigma"
      ],
      "metadata": {
        "id": "Qhj84gBfSVCi"
      }
    },
    {
      "cell_type": "code",
      "metadata": {
        "colab": {
          "base_uri": "https://localhost:8080/"
        },
        "outputId": "464f5126-b333-4ff8-a7f2-b51fea29dda1",
        "id": "tPViWBmnSVCi"
      },
      "source": [
        "coapin_upper_boundary = coapin_mean + 3*coapin_sigma\n",
        "coapin_upper_boundary"
      ],
      "execution_count": 79,
      "outputs": [
        {
          "output_type": "execute_result",
          "data": {
            "text/plain": [
              "9425.985830732347"
            ]
          },
          "metadata": {},
          "execution_count": 79
        }
      ]
    },
    {
      "cell_type": "code",
      "metadata": {
        "colab": {
          "base_uri": "https://localhost:8080/"
        },
        "outputId": "c195928d-953d-4448-c22f-9328d36ecd22",
        "id": "KmgWAwPySVCi"
      },
      "source": [
        "coapin_lower_boundary = coapin_mean - 3*coapin_sigma\n",
        "coapin_lower_boundary"
      ],
      "execution_count": 80,
      "outputs": [
        {
          "output_type": "execute_result",
          "data": {
            "text/plain": [
              "-6263.798664113013"
            ]
          },
          "metadata": {},
          "execution_count": 80
        }
      ]
    },
    {
      "cell_type": "code",
      "source": [
        "coapin_clipped=up_clip_list(coapin_list, coapin_lower_boundary, coapin_upper_boundary)"
      ],
      "metadata": {
        "colab": {
          "base_uri": "https://localhost:8080/"
        },
        "id": "bzAF7j7pT3a4",
        "outputId": "8fdfafbf-5eb5-497a-a689-891591987227"
      },
      "execution_count": 81,
      "outputs": [
        {
          "output_type": "stream",
          "name": "stdout",
          "text": [
            "Lower items clipped: 0\n",
            "Upper items clipped: 5\n"
          ]
        }
      ]
    },
    {
      "cell_type": "code",
      "source": [
        "\n",
        "wrangled_loan_table_10 = up_set_column(wrangled_loan_table_9, 'CoapplicantIncome', coapin_clipped)"
      ],
      "metadata": {
        "id": "Fqxzm81zOIDm"
      },
      "execution_count": 83,
      "outputs": []
    },
    {
      "cell_type": "markdown",
      "source": [
        "##Problem 4.2\n",
        "\n",
        "Clip `LoanAmount` next. You should be able to copy and past code from 4.1 then change a few names, e.g., `coapin_list` to `lam_list`, etc."
      ],
      "metadata": {
        "id": "_Ph-yDIKNkS-"
      }
    },
    {
      "cell_type": "code",
      "source": [
        "lam_list= up_get_column(wrangled_loan_table_9, 'LoanAmount')\n",
        "coapin_mean = sum(lam_list)/len(lam_list)\n",
        "coapin_mean\n"
      ],
      "metadata": {
        "colab": {
          "base_uri": "https://localhost:8080/"
        },
        "outputId": "6d76cb9f-44ff-4e65-ce93-238b6b8299c3",
        "id": "t_gq4q5WVScf"
      },
      "execution_count": 84,
      "outputs": [
        {
          "output_type": "execute_result",
          "data": {
            "text/plain": [
              "144.73541666666668"
            ]
          },
          "metadata": {},
          "execution_count": 84
        }
      ]
    },
    {
      "cell_type": "code",
      "source": [
        "sq_diff_list = []  \n",
        "\n",
        "for item in lam_list:\n",
        "  result = (item - coapin_mean)**2\n",
        "  sq_diff_list = sq_diff_list + [result]  \n",
        "\n",
        "sq_diff_list[0:5]  \n"
      ],
      "metadata": {
        "colab": {
          "base_uri": "https://localhost:8080/"
        },
        "outputId": "dc686fe3-7ecb-447d-eb44-5dc05aadab0f",
        "id": "w1YKHs9aVScg"
      },
      "execution_count": 91,
      "outputs": [
        {
          "output_type": "execute_result",
          "data": {
            "text/plain": [
              "[280.0741710069449,\n",
              " 6199.2658376736135,\n",
              " 611.8408376736118,\n",
              " 13.95333767361121,\n",
              " 14948.628337673608]"
            ]
          },
          "metadata": {},
          "execution_count": 91
        }
      ]
    },
    {
      "cell_type": "code",
      "source": [
        "lam_variance = sum(sq_diff_list)/len(sq_diff_list)\n",
        "lam_variance"
      ],
      "metadata": {
        "colab": {
          "base_uri": "https://localhost:8080/"
        },
        "outputId": "4e78de49-6542-4256-95e9-5f124cf36aee",
        "id": "ia0d4im3VScg"
      },
      "execution_count": 89,
      "outputs": [
        {
          "output_type": "execute_result",
          "data": {
            "text/plain": [
              "6468.061245659718"
            ]
          },
          "metadata": {},
          "execution_count": 89
        }
      ]
    },
    {
      "cell_type": "code",
      "metadata": {
        "colab": {
          "base_uri": "https://localhost:8080/"
        },
        "outputId": "03625906-81a8-420e-8372-32cc0bbb77d9",
        "id": "Q2nwUXB6VSch"
      },
      "source": [
        "coapin_sigma = coapin_variance**.5\n",
        "coapin_sigma"
      ],
      "execution_count": 92,
      "outputs": [
        {
          "output_type": "execute_result",
          "data": {
            "text/plain": [
              "80.42425781851965"
            ]
          },
          "metadata": {},
          "execution_count": 92
        }
      ]
    },
    {
      "cell_type": "markdown",
      "source": [
        "###Compute the two boundaries of 3Sigma"
      ],
      "metadata": {
        "id": "FA2MtR3TVSch"
      }
    },
    {
      "cell_type": "code",
      "metadata": {
        "colab": {
          "base_uri": "https://localhost:8080/"
        },
        "outputId": "899750d6-3b3f-4aa3-a32c-3c911003622d",
        "id": "gSasPC7BVSch"
      },
      "source": [
        "lam_upper_boundary = coapin_mean + 3*coapin_sigma\n",
        "lam_upper_boundary"
      ],
      "execution_count": 93,
      "outputs": [
        {
          "output_type": "execute_result",
          "data": {
            "text/plain": [
              "386.00819012222564"
            ]
          },
          "metadata": {},
          "execution_count": 93
        }
      ]
    },
    {
      "cell_type": "code",
      "metadata": {
        "colab": {
          "base_uri": "https://localhost:8080/"
        },
        "outputId": "acee9cc4-98e9-41c6-bf4e-a9d8df5f6192",
        "id": "yaSxm1QpVSci"
      },
      "source": [
        "lam_lower_boundary = coapin_mean - 3*coapin_sigma\n",
        "lam_lower_boundary"
      ],
      "execution_count": 94,
      "outputs": [
        {
          "output_type": "execute_result",
          "data": {
            "text/plain": [
              "-96.53735678889225"
            ]
          },
          "metadata": {},
          "execution_count": 94
        }
      ]
    },
    {
      "cell_type": "code",
      "source": [
        "lam_clipped=up_clip_list(lam_list, lam_lower_boundary, lam_upper_boundary)"
      ],
      "metadata": {
        "colab": {
          "base_uri": "https://localhost:8080/"
        },
        "outputId": "6378aa65-cf3e-4668-c97a-c85619ec977e",
        "id": "A_bIVY3SVSci"
      },
      "execution_count": 95,
      "outputs": [
        {
          "output_type": "stream",
          "name": "stdout",
          "text": [
            "Lower items clipped: 0\n",
            "Upper items clipped: 10\n"
          ]
        }
      ]
    },
    {
      "cell_type": "code",
      "source": [
        "\n",
        "wrangled_loan_table_10 = up_set_column(wrangled_loan_table_9, 'LoanAmount', coapin_clipped)"
      ],
      "metadata": {
        "id": "S8u1KXoiVSci"
      },
      "execution_count": 96,
      "outputs": []
    },
    {
      "cell_type": "code",
      "source": [
        "wrangled_loan_table_10 = up_set_column(wrangled_loan_table_9, 'LoanAmount', lam_clipped)"
      ],
      "metadata": {
        "id": "TQjsovKQPeJ_"
      },
      "execution_count": 97,
      "outputs": []
    },
    {
      "cell_type": "markdown",
      "source": [
        "#Challenge 5\n",
        "<img src='https://www.dropbox.com/s/3uyvp722kp5to2r/assignment.png?raw=1' width='300'>\n",
        "\n",
        "At this point, you should have a table with a dropped column, dropped rows, all numeric columns and clipped values on 3 columns.\n",
        "\n",
        "The goal is to get your table onto your GitHub account. I'll lead you through the steps."
      ],
      "metadata": {
        "id": "lw88vgE2vFUM"
      }
    },
    {
      "cell_type": "markdown",
      "source": [
        "##Step 5.1\n",
        "\n",
        "Puddles gives you a function for writing a table to Colab local file storage.\n",
        "You can choose the file name. I added \"unscaled\" because we still have a bit more to do."
      ],
      "metadata": {
        "id": "7_n4YdDqxWZf"
      }
    },
    {
      "cell_type": "code",
      "source": [
        "up_write_table(wrangled_loan_table_10, 'wrangled_loan_table_katie.csv')"
      ],
      "metadata": {
        "id": "DK72ikqOw5wv"
      },
      "execution_count": 101,
      "outputs": []
    },
    {
      "cell_type": "markdown",
      "source": [
        "You will see the file when you click on folder on left. Mouseover the file to get menu on right. Click download to save on your computer."
      ],
      "metadata": {
        "id": "B0KoiS7Dyoip"
      }
    },
    {
      "cell_type": "markdown",
      "source": [
        "##Step 5.2\n",
        "\n",
        "Now upload it to your github account. Reminder, on GitHub click `Add File` and then `Upload files`.\n",
        "\n",
        "Don't forget to click `Commit` at bottom to finalize the process!\n",
        "\n",
        "You should see your table in your GitHub account now."
      ],
      "metadata": {
        "id": "yT1d_3GIxSog"
      }
    },
    {
      "cell_type": "markdown",
      "source": [
        "##Step 5.3\n",
        "\n",
        "Get the url by clicking `Raw` then copying the url to clipboard."
      ],
      "metadata": {
        "id": "_N40GsjmxnhN"
      }
    },
    {
      "cell_type": "markdown",
      "source": [
        "##Step 5.4\n",
        "\n",
        "Make sure you can get it back! I commented out the url I got. You should set url to your own GitHub location (which should now be on your clipboard so just paste it in between quotes)."
      ],
      "metadata": {
        "id": "PfaCFT6ozSCU"
      }
    },
    {
      "cell_type": "code",
      "source": [
        "#url = 'https://raw.githubusercontent.com/fickas/ai_for_good/master/wrangled_loan_table_unscaled.csv'\n",
        "url = 'https://raw.githubusercontent.com/kspri/ai_gooood/main/Copy_of_s22_chapter3_handout.ipynb'  \n",
        "wrangled_loan_table_unscaled_test = up_get_table(url)\n",
        "wrangled_loan_table_unscaled_test"
      ],
      "metadata": {
        "id": "DbxlopN1zYby",
        "colab": {
          "base_uri": "https://localhost:8080/",
          "height": 466
        },
        "outputId": "1512cae4-2a61-4bba-eadc-ff922d553be0"
      },
      "execution_count": 102,
      "outputs": [
        {
          "output_type": "error",
          "ename": "AssertionError",
          "evalue": "ignored",
          "traceback": [
            "\u001b[0;31m---------------------------------------------------------------------------\u001b[0m",
            "\u001b[0;31mParserError\u001b[0m                               Traceback (most recent call last)",
            "\u001b[0;32m/usr/local/lib/python3.7/dist-packages/uo_puddles/good_ai.py\u001b[0m in \u001b[0;36mup_get_table\u001b[0;34m(url)\u001b[0m\n\u001b[1;32m     35\u001b[0m   \u001b[0;32mtry\u001b[0m\u001b[0;34m:\u001b[0m\u001b[0;34m\u001b[0m\u001b[0;34m\u001b[0m\u001b[0m\n\u001b[0;32m---> 36\u001b[0;31m     \u001b[0mdf\u001b[0m \u001b[0;34m=\u001b[0m \u001b[0mpd\u001b[0m\u001b[0;34m.\u001b[0m\u001b[0mread_csv\u001b[0m\u001b[0;34m(\u001b[0m\u001b[0murl\u001b[0m\u001b[0;34m)\u001b[0m\u001b[0;34m\u001b[0m\u001b[0;34m\u001b[0m\u001b[0m\n\u001b[0m\u001b[1;32m     37\u001b[0m   \u001b[0;32mexcept\u001b[0m\u001b[0;34m:\u001b[0m\u001b[0;34m\u001b[0m\u001b[0;34m\u001b[0m\u001b[0m\n",
            "\u001b[0;32m/usr/local/lib/python3.7/dist-packages/pandas/util/_decorators.py\u001b[0m in \u001b[0;36mwrapper\u001b[0;34m(*args, **kwargs)\u001b[0m\n\u001b[1;32m    310\u001b[0m                 )\n\u001b[0;32m--> 311\u001b[0;31m             \u001b[0;32mreturn\u001b[0m \u001b[0mfunc\u001b[0m\u001b[0;34m(\u001b[0m\u001b[0;34m*\u001b[0m\u001b[0margs\u001b[0m\u001b[0;34m,\u001b[0m \u001b[0;34m**\u001b[0m\u001b[0mkwargs\u001b[0m\u001b[0;34m)\u001b[0m\u001b[0;34m\u001b[0m\u001b[0;34m\u001b[0m\u001b[0m\n\u001b[0m\u001b[1;32m    312\u001b[0m \u001b[0;34m\u001b[0m\u001b[0m\n",
            "\u001b[0;32m/usr/local/lib/python3.7/dist-packages/pandas/io/parsers/readers.py\u001b[0m in \u001b[0;36mread_csv\u001b[0;34m(filepath_or_buffer, sep, delimiter, header, names, index_col, usecols, squeeze, prefix, mangle_dupe_cols, dtype, engine, converters, true_values, false_values, skipinitialspace, skiprows, skipfooter, nrows, na_values, keep_default_na, na_filter, verbose, skip_blank_lines, parse_dates, infer_datetime_format, keep_date_col, date_parser, dayfirst, cache_dates, iterator, chunksize, compression, thousands, decimal, lineterminator, quotechar, quoting, doublequote, escapechar, comment, encoding, encoding_errors, dialect, error_bad_lines, warn_bad_lines, on_bad_lines, delim_whitespace, low_memory, memory_map, float_precision, storage_options)\u001b[0m\n\u001b[1;32m    585\u001b[0m \u001b[0;34m\u001b[0m\u001b[0m\n\u001b[0;32m--> 586\u001b[0;31m     \u001b[0;32mreturn\u001b[0m \u001b[0m_read\u001b[0m\u001b[0;34m(\u001b[0m\u001b[0mfilepath_or_buffer\u001b[0m\u001b[0;34m,\u001b[0m \u001b[0mkwds\u001b[0m\u001b[0;34m)\u001b[0m\u001b[0;34m\u001b[0m\u001b[0;34m\u001b[0m\u001b[0m\n\u001b[0m\u001b[1;32m    587\u001b[0m \u001b[0;34m\u001b[0m\u001b[0m\n",
            "\u001b[0;32m/usr/local/lib/python3.7/dist-packages/pandas/io/parsers/readers.py\u001b[0m in \u001b[0;36m_read\u001b[0;34m(filepath_or_buffer, kwds)\u001b[0m\n\u001b[1;32m    487\u001b[0m     \u001b[0;32mwith\u001b[0m \u001b[0mparser\u001b[0m\u001b[0;34m:\u001b[0m\u001b[0;34m\u001b[0m\u001b[0;34m\u001b[0m\u001b[0m\n\u001b[0;32m--> 488\u001b[0;31m         \u001b[0;32mreturn\u001b[0m \u001b[0mparser\u001b[0m\u001b[0;34m.\u001b[0m\u001b[0mread\u001b[0m\u001b[0;34m(\u001b[0m\u001b[0mnrows\u001b[0m\u001b[0;34m)\u001b[0m\u001b[0;34m\u001b[0m\u001b[0;34m\u001b[0m\u001b[0m\n\u001b[0m\u001b[1;32m    489\u001b[0m \u001b[0;34m\u001b[0m\u001b[0m\n",
            "\u001b[0;32m/usr/local/lib/python3.7/dist-packages/pandas/io/parsers/readers.py\u001b[0m in \u001b[0;36mread\u001b[0;34m(self, nrows)\u001b[0m\n\u001b[1;32m   1046\u001b[0m         \u001b[0mnrows\u001b[0m \u001b[0;34m=\u001b[0m \u001b[0mvalidate_integer\u001b[0m\u001b[0;34m(\u001b[0m\u001b[0;34m\"nrows\"\u001b[0m\u001b[0;34m,\u001b[0m \u001b[0mnrows\u001b[0m\u001b[0;34m)\u001b[0m\u001b[0;34m\u001b[0m\u001b[0;34m\u001b[0m\u001b[0m\n\u001b[0;32m-> 1047\u001b[0;31m         \u001b[0mindex\u001b[0m\u001b[0;34m,\u001b[0m \u001b[0mcolumns\u001b[0m\u001b[0;34m,\u001b[0m \u001b[0mcol_dict\u001b[0m \u001b[0;34m=\u001b[0m \u001b[0mself\u001b[0m\u001b[0;34m.\u001b[0m\u001b[0m_engine\u001b[0m\u001b[0;34m.\u001b[0m\u001b[0mread\u001b[0m\u001b[0;34m(\u001b[0m\u001b[0mnrows\u001b[0m\u001b[0;34m)\u001b[0m\u001b[0;34m\u001b[0m\u001b[0;34m\u001b[0m\u001b[0m\n\u001b[0m\u001b[1;32m   1048\u001b[0m \u001b[0;34m\u001b[0m\u001b[0m\n",
            "\u001b[0;32m/usr/local/lib/python3.7/dist-packages/pandas/io/parsers/c_parser_wrapper.py\u001b[0m in \u001b[0;36mread\u001b[0;34m(self, nrows)\u001b[0m\n\u001b[1;32m    223\u001b[0m             \u001b[0;32mif\u001b[0m \u001b[0mself\u001b[0m\u001b[0;34m.\u001b[0m\u001b[0mlow_memory\u001b[0m\u001b[0;34m:\u001b[0m\u001b[0;34m\u001b[0m\u001b[0;34m\u001b[0m\u001b[0m\n\u001b[0;32m--> 224\u001b[0;31m                 \u001b[0mchunks\u001b[0m \u001b[0;34m=\u001b[0m \u001b[0mself\u001b[0m\u001b[0;34m.\u001b[0m\u001b[0m_reader\u001b[0m\u001b[0;34m.\u001b[0m\u001b[0mread_low_memory\u001b[0m\u001b[0;34m(\u001b[0m\u001b[0mnrows\u001b[0m\u001b[0;34m)\u001b[0m\u001b[0;34m\u001b[0m\u001b[0;34m\u001b[0m\u001b[0m\n\u001b[0m\u001b[1;32m    225\u001b[0m                 \u001b[0;31m# destructive to chunks\u001b[0m\u001b[0;34m\u001b[0m\u001b[0;34m\u001b[0m\u001b[0;34m\u001b[0m\u001b[0m\n",
            "\u001b[0;32m/usr/local/lib/python3.7/dist-packages/pandas/_libs/parsers.pyx\u001b[0m in \u001b[0;36mpandas._libs.parsers.TextReader.read_low_memory\u001b[0;34m()\u001b[0m\n",
            "\u001b[0;32m/usr/local/lib/python3.7/dist-packages/pandas/_libs/parsers.pyx\u001b[0m in \u001b[0;36mpandas._libs.parsers.TextReader._read_rows\u001b[0;34m()\u001b[0m\n",
            "\u001b[0;32m/usr/local/lib/python3.7/dist-packages/pandas/_libs/parsers.pyx\u001b[0m in \u001b[0;36mpandas._libs.parsers.TextReader._tokenize_rows\u001b[0;34m()\u001b[0m\n",
            "\u001b[0;32m/usr/local/lib/python3.7/dist-packages/pandas/_libs/parsers.pyx\u001b[0m in \u001b[0;36mpandas._libs.parsers.raise_parser_error\u001b[0;34m()\u001b[0m\n",
            "\u001b[0;31mParserError\u001b[0m: Error tokenizing data. C error: Expected 2 fields in line 399, saw 9\n",
            "\nDuring handling of the above exception, another exception occurred:\n",
            "\u001b[0;31mAssertionError\u001b[0m                            Traceback (most recent call last)",
            "\u001b[0;32m<ipython-input-102-80aa529b076e>\u001b[0m in \u001b[0;36m<module>\u001b[0;34m()\u001b[0m\n\u001b[1;32m      1\u001b[0m \u001b[0;31m#url = 'https://raw.githubusercontent.com/fickas/ai_for_good/master/wrangled_loan_table_unscaled.csv'\u001b[0m\u001b[0;34m\u001b[0m\u001b[0;34m\u001b[0m\u001b[0;34m\u001b[0m\u001b[0m\n\u001b[1;32m      2\u001b[0m \u001b[0murl\u001b[0m \u001b[0;34m=\u001b[0m \u001b[0;34m'https://raw.githubusercontent.com/kspri/ai_gooood/main/Copy_of_s22_chapter3_handout.ipynb'\u001b[0m\u001b[0;34m\u001b[0m\u001b[0;34m\u001b[0m\u001b[0m\n\u001b[0;32m----> 3\u001b[0;31m \u001b[0mwrangled_loan_table_unscaled_test\u001b[0m \u001b[0;34m=\u001b[0m \u001b[0mup_get_table\u001b[0m\u001b[0;34m(\u001b[0m\u001b[0murl\u001b[0m\u001b[0;34m)\u001b[0m\u001b[0;34m\u001b[0m\u001b[0;34m\u001b[0m\u001b[0m\n\u001b[0m\u001b[1;32m      4\u001b[0m \u001b[0mwrangled_loan_table_unscaled_test\u001b[0m\u001b[0;34m\u001b[0m\u001b[0;34m\u001b[0m\u001b[0m\n",
            "\u001b[0;32m/usr/local/lib/python3.7/dist-packages/uo_puddles/good_ai.py\u001b[0m in \u001b[0;36mup_get_table\u001b[0;34m(url)\u001b[0m\n\u001b[1;32m     36\u001b[0m     \u001b[0mdf\u001b[0m \u001b[0;34m=\u001b[0m \u001b[0mpd\u001b[0m\u001b[0;34m.\u001b[0m\u001b[0mread_csv\u001b[0m\u001b[0;34m(\u001b[0m\u001b[0murl\u001b[0m\u001b[0;34m)\u001b[0m\u001b[0;34m\u001b[0m\u001b[0;34m\u001b[0m\u001b[0m\n\u001b[1;32m     37\u001b[0m   \u001b[0;32mexcept\u001b[0m\u001b[0;34m:\u001b[0m\u001b[0;34m\u001b[0m\u001b[0;34m\u001b[0m\u001b[0m\n\u001b[0;32m---> 38\u001b[0;31m     \u001b[0;32massert\u001b[0m \u001b[0;32mFalse\u001b[0m\u001b[0;34m,\u001b[0m \u001b[0;34mf'Puddles says: url is not a legal web site for a table. If using GitHub, make sure to get raw version of file.'\u001b[0m\u001b[0;34m\u001b[0m\u001b[0;34m\u001b[0m\u001b[0m\n\u001b[0m\u001b[1;32m     39\u001b[0m   \u001b[0;32mreturn\u001b[0m \u001b[0mdf\u001b[0m\u001b[0;34m\u001b[0m\u001b[0;34m\u001b[0m\u001b[0m\n\u001b[1;32m     40\u001b[0m \u001b[0;34m\u001b[0m\u001b[0m\n",
            "\u001b[0;31mAssertionError\u001b[0m: Puddles says: url is not a legal web site for a table. If using GitHub, make sure to get raw version of file."
          ]
        }
      ]
    },
    {
      "cell_type": "markdown",
      "source": [
        "###Here is what mine looks like\n",
        "\n",
        "<img src='https://www.dropbox.com/s/fjwnzxi047q7s1b/Screen%20Shot%202022-03-23%20at%2012.32.17%20PM.png?raw=1' height=200>"
      ],
      "metadata": {
        "id": "H3oMSuCCRENp"
      }
    },
    {
      "cell_type": "markdown",
      "source": [
        "##What you did is kind of a big deal\n",
        "\n",
        "You worked hard to get your data wrangled. And you saved your work in a way that is easy to bring back later. So no need to repeat all those steps.\n",
        "\n",
        "AND ... you can now share your data with others. So if you are working on a student project within a group, they can access your work through the url. You can all be sharing and working on the same data! Huge win."
      ],
      "metadata": {
        "id": "7LOGJ_qP0qFF"
      }
    }
  ]
}